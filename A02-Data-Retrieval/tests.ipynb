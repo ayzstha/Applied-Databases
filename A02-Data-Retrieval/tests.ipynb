{
 "cells": [
  {
   "cell_type": "markdown",
   "metadata": {
    "collapsed": false,
    "deletable": false,
    "editable": false,
    "nbgrader": {
     "grade": false,
     "grade_id": "8a7283",
     "locked": true,
     "schema_version": 3,
     "solution": false,
     "task": false
    }
   },
   "source": [
    "# Tests for Activity 2 \n",
    "\n",
    "This notebook tests some of the code you have written for the activity. Usually, the tests you will see only partially check your code. In addition to the visible tests, there are hidden tests that fully check your code. Make sure your queries give you precisely what the directions ask for!"
   ]
  },
  {
   "cell_type": "markdown",
   "metadata": {
    "collapsed": false,
    "deletable": false,
    "editable": false,
    "nbgrader": {
     "grade": false,
     "grade_id": "62202d",
     "locked": true,
     "schema_version": 3,
     "solution": false,
     "task": false
    }
   },
   "source": [
    "## Test: Practice with Chinook"
   ]
  },
  {
   "cell_type": "code",
   "execution_count": 3,
   "metadata": {
    "collapsed": false,
    "deletable": false,
    "editable": false,
    "nbgrader": {
     "grade": true,
     "grade_id": "712baa",
     "locked": true,
     "points": 1,
     "schema_version": 3,
     "solution": false,
     "task": false
    }
   },
   "outputs": [
   ],
   "source": [
    "# Test for Part 2\n",
    "from nose.tools import assert_equal\n",
    "from csc270tools import get_table\n",
    "\n",
    "# Running the code in prac_chinook.sql to get the table for this part\n",
    "table = get_table('prac_chinook.sql', 'Chinook.db', 0)\n",
    "\n",
    "assert_equal(len(table), 10, 'Checking the number of rows')\n",
    "assert_equal(table[0], (1, 'For Those About To Rock We Salute You', 1), 'Checking the first row')\n"
   ]
  },
  {
   "cell_type": "code",
   "execution_count": 4,
   "metadata": {
    "collapsed": false,
    "deletable": false,
    "editable": false,
    "nbgrader": {
     "grade": true,
     "grade_id": "151b3f",
     "locked": true,
     "points": 1,
     "schema_version": 3,
     "solution": false,
     "task": false
    }
   },
   "outputs": [
   ],
   "source": [
    "# Test for Part 3\n",
    "from nose.tools import assert_equal\n",
    "from csc270tools import get_table\n",
    "\n",
    "# Running the code in prac_chinook.sql to get the table for this part\n",
    "table = get_table('prac_chinook.sql', 'Chinook.db', 1)\n",
    "\n",
    "assert_equal(table, [('Zeca Pagodinho',), (\"Youssou N'Dour\",)])"
   ]
  },
  {
   "cell_type": "code",
   "execution_count": 5,
   "metadata": {
    "collapsed": false,
    "deletable": false,
    "editable": false,
    "nbgrader": {
     "grade": true,
     "grade_id": "9c137c",
     "locked": true,
     "points": 1,
     "schema_version": 3,
     "solution": false,
     "task": false
    }
   },
   "outputs": [
   ],
   "source": [
    "# Test for 4(a)\n",
    "from nose.tools import assert_equal\n",
    "from csc270tools import get_table\n",
    "\n",
    "# Running the code in prac_chinook.sql to get the table for this part\n",
    "table = get_table('prac_chinook.sql', 'Chinook.db', 2)\n",
    "\n",
    "assert_equal(table[0], ('Camille', 'Bernard', '4, Rue Milton', '75009'), 'Checking the first row')\n"
   ]
  },
  {
   "cell_type": "code",
   "execution_count": 6,
   "metadata": {
    "collapsed": false,
    "deletable": false,
    "editable": false,
    "nbgrader": {
     "grade": true,
     "grade_id": "b5da0e",
     "locked": true,
     "points": 1,
     "schema_version": 3,
     "solution": false,
     "task": false
    }
   },
   "outputs": [
   ],
   "source": [
    "# Test for 4(b)\n",
    "from nose.tools import assert_equal, assert_less\n",
    "from csc270tools import get_table\n",
    "\n",
    "# Running the code in prac_chinook.sql to get the table for this part\n",
    "table = get_table('prac_chinook.sql', 'Chinook.db', 3)\n",
    "\n",
    "assert_less(len(table), 8, 'Checking that there are fewer than 8 rows')\n",
    "assert_equal(table[0], ('Margaret', 'Park', 'Sales Support Agent', '1947-09-19 00:00:00'), 'Checking the first row')\n"
   ]
  },
  {
   "cell_type": "code",
   "execution_count": 7,
   "metadata": {
    "collapsed": false,
    "deletable": false,
    "editable": false,
    "nbgrader": {
     "grade": true,
     "grade_id": "4707ab",
     "locked": true,
     "points": 1,
     "schema_version": 3,
     "solution": false,
     "task": false
    }
   },
   "outputs": [
   ],
   "source": [
    "# Test for 4(c)\n",
    "from nose.tools import assert_equal\n",
    "from csc270tools import get_table\n",
    "\n",
    "# Running the code in prac_chinook.sql to get the table for this part\n",
    "table = get_table('prac_chinook.sql', 'Chinook.db', 4)\n",
    "\n",
    "assert_equal(table[0], ('Laura', 'Callahan', 'IT Staff', '2004-03-04 00:00:00'), 'Checking the first row')\n",
    "assert_equal(table[-1], ('Margaret', 'Park', 'Sales Support Agent', '2003-05-03 00:00:00'), 'Checking the last row')\n"
   ]
  },
  {
   "cell_type": "code",
   "execution_count": 8,
   "metadata": {
    "collapsed": false,
    "deletable": false,
    "editable": false,
    "nbgrader": {
     "grade": true,
     "grade_id": "c9ff27",
     "locked": true,
     "points": 1,
     "schema_version": 3,
     "solution": false,
     "task": false
    }
   },
   "outputs": [
   ],
   "source": [
    "# Test for 4(d)\n",
    "from nose.tools import assert_equal\n",
    "from csc270tools import get_table\n",
    "\n",
    "# Running the code in prac_chinook.sql to get the table for this part\n",
    "table = get_table('prac_chinook.sql', 'Chinook.db', 5)\n",
    "\n",
    "assert_equal(len(table), 1, 'Checking the table has 1 row')\n",
    "assert_equal(len(table[0]), 1, 'Checking the table has 1 column')\n"
   ]
  },
  {
   "cell_type": "code",
   "execution_count": 9,
   "metadata": {
    "collapsed": false,
    "deletable": false,
    "editable": false,
    "nbgrader": {
     "grade": true,
     "grade_id": "d2c8d7",
     "locked": true,
     "points": 1,
     "schema_version": 3,
     "solution": false,
     "task": false
    }
   },
   "outputs": [
   ],
   "source": [
    "# Test for 4(e)\n",
    "from nose.tools import assert_equal\n",
    "from csc270tools import get_table\n",
    "\n",
    "# Running the code in prac_chinook.sql to get the table for this part\n",
    "table = get_table('prac_chinook.sql', 'Chinook.db', 6)\n",
    "\n",
    "assert_equal(len(table), 4, 'Checking the number of rows')\n",
    "assert_equal(table[0], ('Diver Down',), 'Checking the first row')\n"
   ]
  },
  {
   "cell_type": "markdown",
   "metadata": {
    "collapsed": false,
    "deletable": false,
    "editable": false,
    "nbgrader": {
     "grade": false,
     "grade_id": "768cdf",
     "locked": true,
     "schema_version": 3,
     "solution": false,
     "task": false
    }
   },
   "source": [
    "## Tests: Practice with Northwind"
   ]
  },
  {
   "cell_type": "code",
   "execution_count": 10,
   "metadata": {
    "collapsed": false,
    "deletable": false,
    "editable": false,
    "nbgrader": {
     "grade": true,
     "grade_id": "fdfef9",
     "locked": true,
     "points": 1,
     "schema_version": 3,
     "solution": false,
     "task": false
    }
   },
   "outputs": [
   ],
   "source": [
    "# Test for part 1\n",
    "from nose.tools import assert_equal, assert_less\n",
    "from csc270tools import get_table\n",
    "\n",
    "# Running the code in prac_northwind.sql to get the table for this part\n",
    "table = get_table('prac_northwind.sql', 'Northwind.db', 0)\n",
    "\n",
    "assert_equal(table[0], ('Sales Representative',), 'Checking the first row')\n",
    "assert_less(len(table), 9, 'Checking that there are fewer than 9 rows')\n"
   ]
  },
  {
   "cell_type": "code",
   "execution_count": 11,
   "metadata": {
    "collapsed": false,
    "deletable": false,
    "editable": false,
    "nbgrader": {
     "grade": true,
     "grade_id": "3ce006",
     "locked": true,
     "points": 1,
     "schema_version": 3,
     "solution": false,
     "task": false
    }
   },
   "outputs": [
   ],
   "source": [
    "# Test for part 2\n",
    "from nose.tools import assert_equal\n",
    "from csc270tools import get_table\n",
    "\n",
    "# Running the code in prac_northwind.sql to get the table for this part\n",
    "table = get_table('prac_northwind.sql', 'Northwind.db', 1)\n",
    "\n",
    "assert_equal(table[0], ('Laura', 'Callahan', 'Inside Sales Coordinator'), 'Checking the first row')\n"
   ]
  },
  {
   "cell_type": "code",
   "execution_count": 12,
   "metadata": {
    "collapsed": false,
    "deletable": false,
    "editable": false,
    "nbgrader": {
     "grade": true,
     "grade_id": "d5900c",
     "locked": true,
     "points": 1,
     "schema_version": 3,
     "solution": false,
     "task": false
    }
   },
   "outputs": [
   ],
   "source": [
    "# Test for part 3\n",
    "from nose.tools import assert_equal, assert_less\n",
    "from csc270tools import get_table\n",
    "\n",
    "# Running the code in prac_northwind.sql to get the table for this part\n",
    "table = get_table('prac_northwind.sql', 'Northwind.db', 2)\n",
    "\n",
    "assert_equal(len(table[0]), 1, 'Checking that there is a single column')\n",
    "assert_equal(table[0][0], 'Argentina', 'Checking the first row')\n",
    "assert_equal(table[-1][0], 'Venezuela', 'Checking the last row')\n",
    "assert_less(len(table), 100, 'Checking that there are fewer than 100 rows')\n"
   ]
  },
  {
   "cell_type": "code",
   "execution_count": 13,
   "metadata": {
    "collapsed": false,
    "deletable": false,
    "editable": false,
    "nbgrader": {
     "grade": true,
     "grade_id": "187076",
     "locked": true,
     "points": 1,
     "schema_version": 3,
     "solution": false,
     "task": false
    }
   },
   "outputs": [
   ],
   "source": [
    "# Test for part 4\n",
    "from nose.tools import assert_equal\n",
    "from csc270tools import get_table\n",
    "\n",
    "# Running the code in prac_northwind.sql to get the table for this part\n",
    "table = get_table('prac_northwind.sql', 'Northwind.db', 3)\n",
    "\n",
    "assert_equal(table[0], (10264, '2016-07-24', '2016-08-21', '2016-08-23'), 'Checking the first row')\n",
    "assert_equal(len(table), 37, 'Checking the number of rows')\n",
    "\n"
   ]
  },
  {
   "cell_type": "code",
   "execution_count": 14,
   "metadata": {
    "collapsed": false,
    "deletable": false,
    "editable": false,
    "nbgrader": {
     "grade": true,
     "grade_id": "8d367d",
     "locked": true,
     "points": 1,
     "schema_version": 3,
     "solution": false,
     "task": false
    }
   },
   "outputs": [
   ],
   "source": [
    "# Test for part 5\n",
    "from nose.tools import assert_equal, assert_less\n",
    "from csc270tools import get_table\n",
    "\n",
    "# Running the code in prac_northwind.sql to get the table for this part\n",
    "table = get_table('prac_northwind.sql', 'Northwind.db', 4)\n",
    "\n",
    "assert_equal(table[0], (\"Chef Anton's Gumbo Mix\", 0), 'Checking the first row')\n",
    "assert_equal(table[1], ('Mishi Kobe Niku', 29), 'Checking the second row')\n",
    "assert_equal(len(table), 8, 'Checking the number of rows')\n",
    "\n"
   ]
  },
  {
   "cell_type": "code",
   "execution_count": 15,
   "metadata": {
    "collapsed": false,
    "deletable": false,
    "editable": false,
    "nbgrader": {
     "grade": true,
     "grade_id": "74295c",
     "locked": true,
     "points": 1,
     "schema_version": 3,
     "solution": false,
     "task": false
    }
   },
   "outputs": [
   ],
   "source": [
    "# Test for part 6\n",
    "from nose.tools import assert_equal\n",
    "from csc270tools import get_table\n",
    "\n",
    "# Running the code in prac_northwind.sql to get the table for this part\n",
    "table = get_table('prac_northwind.sql', 'Northwind.db', 5)\n",
    "\n",
    "assert_equal(table, [(10248, 11, 14, 12, 0.0),\n",
    "                     (10248, 42, 9.8, 10, 0.0),\n",
    "                     (10248, 72, 34.8, 5, 0.0),\n",
    "                     (10249, 14, 18.6, 9, 0.0)], 'Checking the whole table')\n",
    "\n"
   ]
  },
  {
   "cell_type": "code",
   "execution_count": 16,
   "metadata": {
    "collapsed": false,
    "deletable": false,
    "editable": false,
    "nbgrader": {
     "grade": true,
     "grade_id": "fd1060",
     "locked": true,
     "points": 1,
     "schema_version": 3,
     "solution": false,
     "task": false
    }
   },
   "outputs": [
   ],
   "source": [
    "# Test for part 7\n",
    "from nose.tools import assert_equal\n",
    "from csc270tools import get_table\n",
    "\n",
    "# Running the code in prac_northwind.sql to get the table for this part\n",
    "table = get_table('prac_northwind.sql', 'Northwind.db', 6)\n",
    "\n",
    "assert_equal(table[0], (10850, 4, 2.5), 'Checking the first row')\n",
    "assert_equal(table[-1], (10382, 60, 2), 'Checking the last row')\n",
    "assert_equal(len(table), 32, 'Checking the number of rows')\n",
    "\n"
   ]
  },
  {
   "cell_type": "markdown",
   "metadata": {
    "collapsed": false,
    "deletable": false,
    "editable": false,
    "nbgrader": {
     "grade": false,
     "grade_id": "5ad53f",
     "locked": true,
     "schema_version": 3,
     "solution": false,
     "task": false
    }
   },
   "source": [
    "## Tests: Practice with Netflix"
   ]
  },
  {
   "cell_type": "code",
   "execution_count": 17,
   "metadata": {
    "collapsed": false,
    "deletable": false,
    "editable": false,
    "nbgrader": {
     "grade": true,
     "grade_id": "4b9cb7",
     "locked": true,
     "points": 1,
     "schema_version": 3,
     "solution": false,
     "task": false
    }
   },
   "outputs": [
   ],
   "source": [
    "# Test for part 4\n",
    "from nose.tools import assert_equal\n",
    "from csc270tools import get_table\n",
    "\n",
    "# Running the code in prac_netflix.sql to get the table for this part\n",
    "table = get_table('prac_netflix.sql', 'Netflix.db', 1)\n",
    "\n",
    "assert_equal(table[0], ('Django Unchained', 'R', '165 min', '2012'), 'Checking the first row')\n",
    "\n"
   ]
  },
  {
   "cell_type": "code",
   "execution_count": 20,
   "metadata": {
    "collapsed": false,
    "deletable": false,
    "editable": false,
    "nbgrader": {
     "grade": true,
     "grade_id": "cfdcfb",
     "locked": true,
     "points": 1,
     "schema_version": 3,
     "solution": false,
     "task": false
    }
   },
   "outputs": [
   ],
   "source": [
    "# Test for part 5\n",
    "from nose.tools import assert_equal\n",
    "from csc270tools import get_table\n",
    "\n",
    "# Running the code in prac_netflix.sql to get the table for this part\n",
    "table = get_table('prac_netflix.sql', 'Netflix.db', 2)\n",
    "\n",
    "assert_equal(table[0], ('An American Tail: The Treasures of Manhattan Island', 'Movie', 'G', '79 min'), 'Checking the first row')\n",
    "assert_equal(table[1], ('Rugrats in Paris: The Movie', 'Movie', 'G', '79 min'), 'Checking the second row')\n",
    "assert_equal(table[-1], ('Power Rangers Lightspeed Rescue', 'TV Show', 'TV-Y7', '1 Season'), 'Checking the last row')\n",
    "\n"
   ]
  },
  {
   "cell_type": "code",
   "execution_count": 19,
   "metadata": {
    "collapsed": false,
    "deletable": false,
    "editable": false,
    "nbgrader": {
     "grade": true,
     "grade_id": "0cdc8b",
     "locked": true,
     "points": 1,
     "schema_version": 3,
     "solution": false,
     "task": false
    }
   },
   "outputs": [
   ],
   "source": [
    "# Test for part 6a\n",
    "from nose.tools import assert_equal\n",
    "from csc270tools import get_table\n",
    "\n",
    "# Running the code in prac_netflix.sql to get the table for this part\n",
    "table = get_table('prac_netflix.sql', 'Netflix.db', 3)\n",
    "\n",
    "assert_equal(len(table), 25, 'Checking number of rows')\n",
    "assert_equal(table[0], ('Blood Brothers: Malcolm X & Muhammad Ali', 'September 9, 2021'), 'Checking the first row')\n",
    "\n"
   ]
  },
  {
   "cell_type": "code",
   "execution_count": 0,
   "metadata": {
    "collapsed": false
   },
   "outputs": [
   ],
   "source": [
   ]
  }
 ],
 "metadata": {
  "kernelspec": {
   "argv": [
    "/usr/bin/python3",
    "-m",
    "ipykernel",
    "--HistoryManager.enabled=False",
    "--matplotlib=inline",
    "-c",
    "%config InlineBackend.figure_formats = set(['retina'])\nimport matplotlib; matplotlib.rcParams['figure.figsize'] = (12, 7)",
    "-f",
    "{connection_file}"
   ],
   "display_name": "Python 3 (system-wide)",
   "env": {
   },
   "language": "python",
   "metadata": {
    "cocalc": {
     "description": "Python 3 programming language",
     "priority": 100,
     "url": "https://www.python.org/"
    }
   },
   "name": "python3",
   "resource_dir": "/ext/jupyter/kernels/python3"
  },
  "language_info": {
   "codemirror_mode": {
    "name": "ipython",
    "version": 3
   },
   "file_extension": ".py",
   "mimetype": "text/x-python",
   "name": "python",
   "nbconvert_exporter": "python",
   "pygments_lexer": "ipython3",
   "version": "3.10.12"
  },
  "nbgrader": {
   "__altered": false,
   "__hash": -499360133,
   "_root": {
    "entries": [
     [
      "size",
      5
     ],
     [
      "_root",
      {
       "entries": [
        [
         "size",
         6
        ],
        [
         "_root",
         {
          "entries": [
           [
            "size",
            6
           ],
           [
            "_root",
            {
             "entries": [
              [
               "size",
               5
              ],
              [
               "_root",
               {
                "entries": [
                 [
                  "__altered",
                  false
                 ],
                 [
                  "__hash",
                  853781301
                 ],
                 [
                  "_root",
                  {
                   "entries": [
                    [
                     "size",
                     1
                    ],
                    [
                     "_root",
                     {
                      "entries": [
                       [
                        "cocalc_minimal_stubs",
                        true
                       ]
                      ],
                      "ownerID": {
                      }
                     }
                    ],
                    [
                     "__ownerID",
                     null
                    ],
                    [
                     "__hash",
                     912286151
                    ],
                    [
                     "__altered",
                     false
                    ],
                    [
                     "cocalc_minimal_stubs",
                     true
                    ]
                   ],
                   "ownerID": {
                   }
                  }
                 ],
                 [
                  "cocalc_minimal_stubs",
                  true
                 ],
                 [
                  "size",
                  6
                 ]
                ],
                "ownerID": {
                }
               }
              ],
              [
               "__ownerID",
               null
              ],
              [
               "__hash",
               840017758
              ],
              [
               "__altered",
               false
              ],
              [
               "cocalc_minimal_stubs",
               true
              ]
             ],
             "ownerID": {
             }
            }
           ],
           [
            "__ownerID",
            null
           ],
           [
            "__hash",
            214758527
           ],
           [
            "__altered",
            false
           ],
           [
            "cocalc_minimal_stubs",
            true
           ]
          ],
          "ownerID": {
          }
         }
        ],
        [
         "__hash",
         761992343
        ],
        [
         "__altered",
         false
        ],
        [
         "cocalc_minimal_stubs",
         true
        ]
       ],
       "ownerID": {
       }
      }
     ],
     [
      "__ownerID",
      null
     ],
     [
      "__hash",
      225212343
     ],
     [
      "__altered",
      false
     ],
     [
      "cocalc_minimal_stubs",
      true
     ]
    ],
    "ownerID": {
    }
   },
   "cocalc_minimal_stubs": true,
   "size": 6
  }
 },
 "nbformat": 4,
 "nbformat_minor": 4
}