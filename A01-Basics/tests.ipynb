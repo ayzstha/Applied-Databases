{
 "cells": [
  {
   "cell_type": "markdown",
   "metadata": {
    "collapsed": false,
    "deletable": false,
    "editable": false,
    "nbgrader": {
     "grade": false,
     "grade_id": "f13615",
     "locked": true,
     "schema_version": 3,
     "solution": false,
     "task": false
    }
   },
   "source": [
    "# Tests for Activity 1\n"
   ]
  },
  {
   "cell_type": "markdown",
   "metadata": {
    "collapsed": false,
    "deletable": false,
    "editable": false,
    "nbgrader": {
     "grade": false,
     "grade_id": "c348dc",
     "locked": true,
     "schema_version": 3,
     "solution": false,
     "task": false
    }
   },
   "source": [
    "## Test: Hello, World!\n",
    "\n",
    "The following cell contains code that tests the contents of your `hello.sql` file. Run the following cell and see what happens. If the cell runs without errors, you have successfully completed the first SQL exercise for this course (Good job!). In other words, no news is good news.\n",
    "\n",
    "If you get an error when you run the following cell, you should read the error message carefully (start with the bottom of the error message) and try to fix your mistake. If you can't figure out what's wrong, ask for help!"
   ]
  },
  {
   "cell_type": "code",
   "execution_count": 3,
   "metadata": {
    "collapsed": false,
    "deletable": false,
    "editable": false,
    "nbgrader": {
     "grade": true,
     "grade_id": "0c9495",
     "locked": true,
     "points": 1,
     "remove": false,
     "schema_version": 3,
     "solution": false,
     "task": false
    }
   },
   "outputs": [
   ],
   "source": [
    "import sqlite3\n",
    "from nose.tools import assert_equal\n",
    "\n",
    "# Setting up sqlite3 for unit tests\n",
    "con = sqlite3.connect(':memory:')\n",
    "cur = con.cursor()\n",
    "\n",
    "# Running the code in hello.sql\n",
    "with open('hello.sql') as file:\n",
    "    query = file.read()\n",
    "    table = cur.execute(query).fetchall()\n",
    "    \n",
    "# Checking the output of the query\n",
    "assert_equal(table[0][0], 'Hello, World!')"
   ]
  },
  {
   "cell_type": "markdown",
   "metadata": {
    "collapsed": false,
    "deletable": false,
    "editable": false,
    "nbgrader": {
     "grade": false,
     "grade_id": "aa64d2",
     "locked": true,
     "schema_version": 3,
     "solution": false,
     "task": false
    }
   },
   "source": [
    "## Test: Chinook\n",
    "\n",
    "The following cell contains code that **partially** tests the query in your `employees.sql` file. If you see errors when you run the cell below, you definitely have a mistake to fix, and you should take the appropriate steps to fix your code.\n",
    "\n",
    "In addition to the tests you can see, there are hidden tests that will fully test your code for grading purposes. So even if you don't see any errors, you'll still want to double check your work to **make sure your code properly satisfies the directions in the handout**."
   ]
  },
  {
   "cell_type": "code",
   "execution_count": 7,
   "metadata": {
    "collapsed": false,
    "deletable": false,
    "editable": false,
    "nbgrader": {
     "grade": true,
     "grade_id": "5b7c7d",
     "locked": true,
     "points": 1,
     "schema_version": 3,
     "solution": false,
     "task": false
    }
   },
   "outputs": [
   ],
   "source": [
    "import sqlite3\n",
    "from nose.tools import assert_equal\n",
    "\n",
    "# Setting up sqlite3 for unit tests\n",
    "con = sqlite3.connect('Chinook.db')\n",
    "cur = con.cursor()\n",
    "\n",
    "# Running the code in employees.sql\n",
    "with open('employees.sql') as file:\n",
    "    query = file.read()\n",
    "    table = cur.execute(query).fetchall()\n",
    "    \n",
    "# Partially checking the output of the query\n",
    "first_row = table[0]\n",
    "assert_equal(first_row, ('Andrew', 'Adams', 'General Manager'), 'Checking the first row of the output')\n",
    "\n",
    "# There are hidden tests which will *completely* check your solution."
   ]
  },
  {
   "cell_type": "markdown",
   "metadata": {
    "collapsed": false,
    "deletable": false,
    "editable": false,
    "nbgrader": {
     "grade": false,
     "grade_id": "500c52",
     "locked": true,
     "schema_version": 3,
     "solution": false,
     "task": false
    }
   },
   "source": [
    "## Test: Course Schedule"
   ]
  },
  {
   "cell_type": "code",
   "execution_count": 8,
   "metadata": {
    "collapsed": false,
    "deletable": false,
    "editable": false,
    "nbgrader": {
     "grade": true,
     "grade_id": "93679d",
     "locked": true,
     "points": 1,
     "remove": false,
     "schema_version": 3,
     "solution": false,
     "task": false
    }
   },
   "outputs": [
    {
     "ename": "IndexError",
     "evalue": "list index out of range",
     "output_type": "error",
     "traceback": [
      "\u001b[0;31m---------------------------------------------------------------------------\u001b[0m",
      "\u001b[0;31mIndexError\u001b[0m                                Traceback (most recent call last)",
      "\u001b[0;32m/tmp/ipykernel_1344/2777610781.py\u001b[0m in \u001b[0;36m<cell line: 18>\u001b[0;34m()\u001b[0m\n\u001b[1;32m     16\u001b[0m     \u001b[0mSELECT\u001b[0m \u001b[0mname\u001b[0m \u001b[0mFROM\u001b[0m \u001b[0msqlite_master\u001b[0m \u001b[0mWHERE\u001b[0m \u001b[0mtype\u001b[0m \u001b[0;34m=\u001b[0m \u001b[0;34m'table'\u001b[0m\u001b[0;34m;\u001b[0m\u001b[0;34m\u001b[0m\u001b[0;34m\u001b[0m\u001b[0m\n\u001b[1;32m     17\u001b[0m     ''').fetchall()\n\u001b[0;32m---> 18\u001b[0;31m \u001b[0massert_equal\u001b[0m\u001b[0;34m(\u001b[0m\u001b[0mtables\u001b[0m\u001b[0;34m[\u001b[0m\u001b[0;36m0\u001b[0m\u001b[0;34m]\u001b[0m\u001b[0;34m[\u001b[0m\u001b[0;36m0\u001b[0m\u001b[0;34m]\u001b[0m\u001b[0;34m,\u001b[0m \u001b[0;34m'course_schedule'\u001b[0m\u001b[0;34m)\u001b[0m\u001b[0;34m\u001b[0m\u001b[0;34m\u001b[0m\u001b[0m\n\u001b[0m",
      "\u001b[0;31mIndexError\u001b[0m: list index out of range"
     ]
    }
   ],
   "source": [
    "import sqlite3\n",
    "from nose.tools import assert_equal\n",
    "\n",
    "# Setting up sqlite3 for unit tests\n",
    "con = sqlite3.connect(':memory:')\n",
    "cur = con.cursor()\n",
    "\n",
    "# Running the code in schedule.sql\n",
    "with open('schedule.sql') as file:\n",
    "    contents = file.read()\n",
    "    for query in contents.split(';'):\n",
    "        cur.execute(query)\n",
    "    \n",
    "# Checking that a table named course_schedule exists\n",
    "tables = cur.execute('''\n",
    "    SELECT name FROM sqlite_master WHERE type = 'table';\n",
    "    ''').fetchall()\n",
    "assert_equal(tables[0][0], 'course_schedule')"
   ]
  },
  {
   "cell_type": "code",
   "execution_count": 6,
   "metadata": {
    "collapsed": false,
    "deletable": false,
    "editable": false,
    "nbgrader": {
     "grade": false,
     "grade_id": "05a267",
     "locked": true,
     "remove": false,
     "schema_version": 3,
     "solution": false,
     "task": false
    }
   },
   "outputs": [
    {
     "data": {
      "text/markdown": [
       "schedule.md"
      ],
      "text/plain": [
       "<IPython.core.display.Markdown object>"
      ]
     },
     "execution_count": 6,
     "metadata": {
     },
     "output_type": "execute_result"
    }
   ],
   "source": [
    "from IPython.display import Markdown, display\n",
    "\n",
    "display(Markdown(\"schedule.md\"))"
   ]
  }
 ],
 "metadata": {
  "kernelspec": {
   "argv": [
    "/usr/bin/python3",
    "-m",
    "ipykernel",
    "--HistoryManager.enabled=False",
    "--matplotlib=inline",
    "-c",
    "%config InlineBackend.figure_formats = set(['retina'])\nimport matplotlib; matplotlib.rcParams['figure.figsize'] = (12, 7)",
    "-f",
    "{connection_file}"
   ],
   "display_name": "Python 3 (system-wide)",
   "env": {
   },
   "language": "python",
   "metadata": {
    "cocalc": {
     "description": "Python 3 programming language",
     "priority": 100,
     "url": "https://www.python.org/"
    }
   },
   "name": "python3",
   "resource_dir": "/ext/jupyter/kernels/python3"
  },
  "language_info": {
   "codemirror_mode": {
    "name": "ipython",
    "version": 3
   },
   "file_extension": ".py",
   "mimetype": "text/x-python",
   "name": "python",
   "nbconvert_exporter": "python",
   "pygments_lexer": "ipython3",
   "version": "3.10.12"
  },
  "nbgrader": {
   "__altered": false,
   "__hash": 1025205524,
   "_root": {
    "entries": [
     [
      "size",
      1
     ],
     [
      "_root",
      {
       "entries": [
        [
         "cocalc_minimal_stubs",
         true
        ]
       ],
       "ownerID": {
       }
      }
     ],
     [
      "__hash",
      912286151
     ],
     [
      "__altered",
      false
     ],
     [
      "cocalc_minimal_stubs",
      true
     ]
    ],
    "ownerID": {
    }
   },
   "cocalc_minimal_stubs": true,
   "size": 5
  }
 },
 "nbformat": 4,
 "nbformat_minor": 4
}