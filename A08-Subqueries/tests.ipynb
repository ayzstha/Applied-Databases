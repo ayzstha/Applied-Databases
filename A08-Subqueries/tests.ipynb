{
 "cells": [
  {
   "cell_type": "markdown",
   "metadata": {
    "collapsed": false,
    "deletable": false,
    "editable": false,
    "nbgrader": {
     "grade": false,
     "grade_id": "8ca942",
     "locked": true,
     "schema_version": 3,
     "solution": false,
     "task": false
    }
   },
   "source": [
    "# Tests for Activity 8"
   ]
  },
  {
   "cell_type": "markdown",
   "metadata": {
    "collapsed": false,
    "deletable": false,
    "editable": false,
    "nbgrader": {
     "grade": false,
     "grade_id": "a215b5",
     "locked": true,
     "schema_version": 3,
     "solution": false,
     "task": false
    }
   },
   "source": [
    "## Tests: Chinook"
   ]
  },
  {
   "cell_type": "code",
   "execution_count": 1,
   "metadata": {
    "collapsed": false,
    "deletable": false,
    "editable": false,
    "nbgrader": {
     "grade": true,
     "grade_id": "a09ff2",
     "locked": true,
     "points": 1,
     "schema_version": 3,
     "solution": false,
     "task": false
    }
   },
   "outputs": [
   ],
   "source": [
    "# Test for part 1\n",
    "from nose.tools import assert_equal, assert_greater, assert_in, assert_not_in\n",
    "from csc270tools import get_table, get_script\n",
    "\n",
    "# Running the code in act8Chinook.sql to get the table and your code for this part\n",
    "table  = get_table( 'act8Chinook.sql', 'Chinook.db', 0)\n",
    "script = get_script('act8Chinook.sql', 0).upper()\n",
    "\n",
    "# Checking that subqueries are used\n",
    "assert_greater(script.count('SELECT'), 1, 'checking for subqueries')\n",
    "assert_not_in(' JOIN ', script, 'checking for JOINs')\n",
    "\n",
    "# Partially checking your solution\n",
    "assert_in(('Physical Graffiti [Disc 1]',), table, 'Checking a row')\n",
    "\n",
    "# There are hidden tests that will completely check your solution"
   ]
  },
  {
   "cell_type": "code",
   "execution_count": 2,
   "metadata": {
    "collapsed": false,
    "deletable": false,
    "editable": false,
    "nbgrader": {
     "grade": true,
     "grade_id": "ae225c",
     "locked": true,
     "points": 1,
     "schema_version": 3,
     "solution": false,
     "task": false
    }
   },
   "outputs": [
   ],
   "source": [
    "# Test for part 2\n",
    "from nose.tools import assert_equal, assert_greater, assert_not_in\n",
    "from csc270tools import get_table, get_script\n",
    "\n",
    "# Running the code in act8Chinook.sql to get the table and your code for this part\n",
    "table  = get_table( 'act8Chinook.sql', 'Chinook.db', 1)\n",
    "script = get_script('act8Chinook.sql', 1).upper()\n",
    "\n",
    "# Checking that subqueries are used\n",
    "assert_greater(script.count('SELECT'), 1, 'checking for subqueries')\n",
    "assert_not_in(' JOIN ', script, 'checking for JOINs')\n",
    "\n",
    "# Partially checking your solution\n",
    "assert_equal(('edfrancis@yachoo.ca',), table[0], 'Checking the first row')\n",
    "\n",
    "# There are hidden tests that will completely check your solution"
   ]
  },
  {
   "cell_type": "code",
   "execution_count": 3,
   "metadata": {
    "collapsed": false,
    "deletable": false,
    "editable": false,
    "nbgrader": {
     "grade": true,
     "grade_id": "93888a",
     "locked": true,
     "points": 1,
     "schema_version": 3,
     "solution": false,
     "task": false
    }
   },
   "outputs": [
   ],
   "source": [
    "# Test for part 3\n",
    "from nose.tools import assert_equal, assert_greater, assert_in, assert_not_in\n",
    "from csc270tools import get_table, get_script\n",
    "\n",
    "# Running the code in act8Chinook.sql to get the table and your code for this part\n",
    "table  = get_table( 'act8Chinook.sql', 'Chinook.db', 2)\n",
    "script = get_script('act8Chinook.sql', 2).upper()\n",
    "\n",
    "# Checking that subqueries are used\n",
    "assert_greater(script.count('SELECT'), 1, 'checking for subqueries')\n",
    "assert_not_in(' JOIN ', script, 'checking for JOINs')\n",
    "\n",
    "# Partially checking your solution\n",
    "assert_in(('Andrew', 'Adams'), table, 'Checking one row')\n",
    "assert_equal(len(table), 3, 'Checking the number of rows')\n",
    "\n",
    "# There are hidden tests that will completely check your solution"
   ]
  },
  {
   "cell_type": "code",
   "execution_count": 4,
   "metadata": {
    "collapsed": false,
    "deletable": false,
    "editable": false,
    "nbgrader": {
     "grade": true,
     "grade_id": "096530",
     "locked": true,
     "points": 2,
     "schema_version": 3,
     "solution": false,
     "task": false
    }
   },
   "outputs": [
   ],
   "source": [
    "# Test for part 4\n",
    "from nose.tools import assert_equal, assert_greater, assert_in, assert_not_in\n",
    "from csc270tools import get_table, get_script\n",
    "\n",
    "# Running the code in act8Chinook.sql to get the table and your code for this part\n",
    "table  = get_table( 'act8Chinook.sql', 'Chinook.db', 3)\n",
    "script = get_script('act8Chinook.sql', 3).upper()\n",
    "\n",
    "# Checking that subqueries are used\n",
    "assert_greater(script.count('SELECT'), 1, 'checking for subqueries')\n",
    "assert_not_in(' JOIN ', script, 'checking for JOINs')\n",
    "\n",
    "# Partially checking your solution\n",
    "assert_in(('Robert', 'King'), table, 'Checking one row')\n",
    "assert_greater(len(table), 4, 'Checking the number of rows')\n",
    "\n",
    "# There are hidden tests that will completely check your solution"
   ]
  },
  {
   "cell_type": "code",
   "execution_count": 5,
   "metadata": {
    "collapsed": false,
    "deletable": false,
    "editable": false,
    "nbgrader": {
     "grade": true,
     "grade_id": "12d45f",
     "locked": true,
     "points": 1,
     "schema_version": 3,
     "solution": false,
     "task": false
    }
   },
   "outputs": [
   ],
   "source": [
    "# Test for part 5\n",
    "import sqlite3\n",
    "from nose.tools import assert_equal, assert_in\n",
    "\n",
    "# Setting up sqlite3 for unit tests\n",
    "con = sqlite3.connect('Chinook.db')\n",
    "cur = con.cursor()\n",
    "\n",
    "# Checking the database has been appropriately modified\n",
    "table = cur.execute(\"SELECT FirstName, LastName, Email, HireDate FROM Employee;\").fetchall()\n",
    "con.close()\n",
    "\n",
    "assert_in(('Dave', 'Rosoff', 'dave@chinookcorp.com', '2024-02-29'), table, 'Checking the new row exists')\n",
    "assert_equal(len(table), 9, 'Checking the number of rows in the Employee table')\n"
   ]
  },
  {
   "cell_type": "code",
   "execution_count": 6,
   "metadata": {
    "collapsed": false,
    "deletable": false,
    "editable": false,
    "nbgrader": {
     "grade": true,
     "grade_id": "c8a34f",
     "locked": true,
     "points": 2,
     "schema_version": 3,
     "solution": false,
     "task": false
    }
   },
   "outputs": [
   ],
   "source": [
    "# Test for part 6\n",
    "import sqlite3\n",
    "from nose.tools import assert_equal, assert_in, assert_greater\n",
    "from csc270tools import get_table, get_script\n",
    "\n",
    "# Getting your code in act8Chinook.sql for this part\n",
    "script = get_script('act8Chinook.sql', 4).upper()\n",
    "\n",
    "# Checking that subqueries are used\n",
    "assert_greater(script.count('SELECT'), 0, 'checking for subqueries')\n",
    "\n",
    "# Setting up sqlite3 for unit tests\n",
    "con = sqlite3.connect('Chinook.db')\n",
    "cur = con.cursor()\n",
    "\n",
    "# Checking the database has been appropriately modified\n",
    "table = cur.execute(\"\"\"\n",
    "    SELECT e1.FirstName, e2.FirstName \n",
    "    FROM Employee AS e1 JOIN Employee AS e2\n",
    "    ON e1.ReportsTo = e2.ReportsTo AND e1.Title = e2.Title;\n",
    "    \"\"\").fetchall()\n",
    "assert_in(('Dave', 'Nancy'), table, 'Checking that Rosoff and Nancy have same title and boss')\n",
    "\n",
    "# There are additional hidden tests for this part."
   ]
  },
  {
   "cell_type": "code",
   "execution_count": 7,
   "metadata": {
    "collapsed": false,
    "deletable": false,
    "editable": false,
    "nbgrader": {
     "grade": true,
     "grade_id": "ffc541",
     "locked": true,
     "points": 2,
     "schema_version": 3,
     "solution": false,
     "task": false
    }
   },
   "outputs": [
   ],
   "source": [
    "# Test for part 7\n",
    "import sqlite3\n",
    "from nose.tools import assert_equal, assert_not_in, assert_greater\n",
    "from csc270tools import get_table, get_script\n",
    "\n",
    "# Getting your code in act8Chinook.sql for this part\n",
    "script = get_script('act8Chinook.sql', 5).upper()\n",
    "\n",
    "# Checking that subqueries are used\n",
    "assert_greater(script.count('SELECT'), 0, 'checking for subqueries')\n",
    "\n",
    "# Setting up sqlite3 for unit tests\n",
    "con = sqlite3.connect('Chinook.db')\n",
    "cur = con.cursor()\n",
    "\n",
    "# Checking the database has been appropriately modified\n",
    "rows = cur.execute(\"\"\"\n",
    "    SELECT b.Email \n",
    "    FROM Employee AS e JOIN Employee AS b\n",
    "    ON e.ReportsTo = b.EmployeeId; \n",
    "    \"\"\").fetchall()\n",
    "\n",
    "assert_not_in(('nancy@chinookcorp.com',), rows, 'Checking that Nancy have no reports')\n",
    "assert_equal(rows.count(('dave@chinookcorp.com',)), 3, \"Checking that number of Rosoff's reports\")\n",
    "\n",
    "# There are additional hidden tests for this part."
   ]
  },
  {
   "cell_type": "markdown",
   "metadata": {
    "collapsed": false,
    "deletable": false,
    "editable": false,
    "nbgrader": {
     "grade": false,
     "grade_id": "323525",
     "locked": true,
     "schema_version": 3,
     "solution": false,
     "task": false
    }
   },
   "source": [
    "## Tests: More Harry Potter"
   ]
  },
  {
   "cell_type": "code",
   "execution_count": 8,
   "metadata": {
    "collapsed": false,
    "deletable": false,
    "editable": false,
    "nbgrader": {
     "grade": true,
     "grade_id": "28b12e",
     "locked": true,
     "points": 1,
     "schema_version": 3,
     "solution": false,
     "task": false
    }
   },
   "outputs": [
   ],
   "source": [
    "# Test for part 1\n",
    "from nose.tools import assert_equal, assert_greater, assert_in, assert_not_in\n",
    "from csc270tools import get_table, get_script\n",
    "\n",
    "# Running the code in act8Potter.sql to get the table and your code for this part\n",
    "table  = get_table( 'act8Potter.sql', 'Potter.db', 0)\n",
    "script = get_script('act8Potter.sql', 0).upper()\n",
    "\n",
    "# Checking that subqueries are used\n",
    "assert_greater(script.count('SELECT'), 1, 'checking for subqueries')\n",
    "assert_not_in(' JOIN ', script, 'checking for JOINs')\n",
    "\n",
    "# Partially checking your solution\n",
    "assert_in(('Harry Potter', 'James Potter'), table, 'Checking one row')\n",
    "assert_equal(len(table), 28, 'Checking the number of rows')\n",
    "\n",
    "# There are hidden tests that will completely check your solution"
   ]
  },
  {
   "cell_type": "code",
   "execution_count": 9,
   "metadata": {
    "collapsed": false,
    "deletable": false,
    "editable": false,
    "nbgrader": {
     "grade": true,
     "grade_id": "1a9f40",
     "locked": true,
     "points": 2,
     "schema_version": 3,
     "solution": false,
     "task": false
    }
   },
   "outputs": [
   ],
   "source": [
    "# Test for part 2\n",
    "from nose.tools import assert_equal, assert_greater, assert_in, assert_not_in\n",
    "from csc270tools import get_table, get_script\n",
    "\n",
    "# Running the code in act8Potter.sql to get the table and your code for this part\n",
    "table  = get_table( 'act8Potter.sql', 'Potter.db', 1)\n",
    "script = get_script('act8Potter.sql', 1).upper()\n",
    "\n",
    "# Checking that subqueries are used\n",
    "assert_greater(script.count('SELECT'), 1, 'checking for subqueries')\n",
    "assert_not_in(' JOIN ', script, 'checking for JOINs')\n",
    "\n",
    "# Partially checking your solution\n",
    "assert_in(('James Potter', 'Harry Potter', 'James Potter'), table, 'Checking the first row')\n",
    "assert_in(('Septimus Weasley', 'Arthur Weasley', 'George Weasley'), table, 'Checking the last row')\n",
    "assert_equal(len(table), 28, 'Checking the number of rows')\n",
    "\n",
    "# There are hidden tests that will completely check your solution"
   ]
  },
  {
   "cell_type": "code",
   "execution_count": 10,
   "metadata": {
    "collapsed": false,
    "deletable": false,
    "editable": false,
    "nbgrader": {
     "grade": true,
     "grade_id": "95c645",
     "locked": true,
     "points": 2,
     "schema_version": 3,
     "solution": false,
     "task": false
    }
   },
   "outputs": [
   ],
   "source": [
    "# Test for part 3\n",
    "from nose.tools import assert_equal, assert_greater, assert_in, assert_not_in\n",
    "from csc270tools import get_table, get_script\n",
    "\n",
    "# Running the code in act8Potter.sql to get the table and your code for this part\n",
    "table  = get_table( 'act8Potter.sql', 'Potter.db', 2)\n",
    "script = get_script('act8Potter.sql', 2).upper()\n",
    "\n",
    "# Checking that subqueries are used\n",
    "assert_greater(script.count('SELECT'), 1, 'checking for subqueries')\n",
    "assert_not_in(' JOIN ', script, 'checking for JOINs')\n",
    "\n",
    "# Partially checking your solution\n",
    "assert_in(('Ginny',), table, 'Checking the first row')\n",
    "assert_in(('George',), table, 'Checking the last row')\n",
    "assert_equal(len(table), 5, 'Checking the number of rows')\n",
    "\n",
    "# There are hidden tests that will completely check your solution"
   ]
  }
 ],
 "metadata": {
  "kernelspec": {
   "argv": [
    "/usr/bin/python3",
    "-m",
    "ipykernel",
    "--HistoryManager.enabled=False",
    "--matplotlib=inline",
    "-c",
    "%config InlineBackend.figure_formats = set(['retina'])\nimport matplotlib; matplotlib.rcParams['figure.figsize'] = (12, 7)",
    "-f",
    "{connection_file}"
   ],
   "display_name": "Python 3 (system-wide)",
   "env": {
   },
   "language": "python",
   "metadata": {
    "cocalc": {
     "description": "Python 3 programming language",
     "priority": 100,
     "url": "https://www.python.org/"
    }
   },
   "name": "python3",
   "resource_dir": "/ext/jupyter/kernels/python3"
  },
  "language_info": {
   "codemirror_mode": {
    "name": "ipython",
    "version": 3
   },
   "file_extension": ".py",
   "mimetype": "text/x-python",
   "name": "python",
   "nbconvert_exporter": "python",
   "pygments_lexer": "ipython3",
   "version": "3.10.12"
  },
  "nbgrader": {
   "__altered": false,
   "__hash": 534908128,
   "_root": {
    "entries": [
     [
      "size",
      6
     ],
     [
      "_root",
      {
       "entries": [
        [
         "size",
         6
        ],
        [
         "_root",
         {
          "entries": [
           [
            "size",
            6
           ],
           [
            "_root",
            {
             "entries": [
              [
               "size",
               1
              ],
              [
               "_root",
               {
                "entries": [
                 [
                  "cocalc_minimal_stubs",
                  true
                 ]
                ],
                "ownerID": {
                }
               }
              ],
              [
               "__ownerID",
               null
              ],
              [
               "__hash",
               912286151
              ],
              [
               "__altered",
               false
              ],
              [
               "cocalc_minimal_stubs",
               true
              ]
             ],
             "ownerID": {
             }
            }
           ],
           [
            "__ownerID",
            null
           ],
           [
            "__hash",
            853781301
           ],
           [
            "__altered",
            false
           ],
           [
            "cocalc_minimal_stubs",
            true
           ]
          ],
          "ownerID": {
          }
         }
        ],
        [
         "__ownerID",
         null
        ],
        [
         "__hash",
         615395691
        ],
        [
         "__altered",
         false
        ],
        [
         "cocalc_minimal_stubs",
         true
        ]
       ],
       "ownerID": {
       }
      }
     ],
     [
      "__ownerID",
      null
     ],
     [
      "__hash",
      132559425
     ],
     [
      "__altered",
      false
     ],
     [
      "cocalc_minimal_stubs",
      true
     ]
    ],
    "ownerID": {
    }
   },
   "cocalc_minimal_stubs": true,
   "size": 6
  }
 },
 "nbformat": 4,
 "nbformat_minor": 4
}