{
 "cells": [
  {
   "cell_type": "markdown",
   "metadata": {
    "collapsed": false,
    "deletable": false,
    "editable": false,
    "nbgrader": {
     "grade": false,
     "grade_id": "a37223",
     "locked": true,
     "schema_version": 3,
     "solution": false,
     "task": false
    }
   },
   "source": [
    "# Tests for Activity 7\n",
    "## Adding Keys and Constraints to the Yote DB"
   ]
  },
  {
   "cell_type": "code",
   "execution_count": 3,
   "metadata": {
    "collapsed": false,
    "deletable": false,
    "editable": false,
    "nbgrader": {
     "grade": true,
     "grade_id": "a80e9f",
     "locked": true,
     "points": 1,
     "schema_version": 3,
     "solution": false,
     "task": false
    }
   },
   "outputs": [
   ],
   "source": [
    "# Testing Part 1 (Setup)\n",
    "import sqlite3\n",
    "from nose.tools import assert_equal\n",
    "\n",
    "# Setting up sqlite3 for unit tests\n",
    "con = sqlite3.connect(':memory:')\n",
    "cur = con.cursor()\n",
    "\n",
    "# Running all the code in act7create.sql\n",
    "with open('act7create.sql') as file:\n",
    "    cur.executescript(file.read())\n",
    "\n",
    "# Running all the code in act7insert.sql\n",
    "with open('act7insert.sql') as file:\n",
    "    cur.executescript(file.read())\n",
    "\n",
    "# Checking that the tables are created \n",
    "tables = {t[0] for t in cur.execute(\"SELECT tbl_name FROM sqlite_master;\").fetchall()}\n",
    "\n",
    "assert_equal(tables, {'CourseDetails', 'CourseMeetings', 'CourseStudent', 'Courses', 'Yotes'})\n",
    "\n",
    "# Checking the column names\n",
    "con.close()"
   ]
  },
  {
   "cell_type": "code",
   "execution_count": 4,
   "metadata": {
    "collapsed": false,
    "deletable": false,
    "editable": false,
    "nbgrader": {
     "grade": true,
     "grade_id": "b9dfce",
     "locked": true,
     "points": 2,
     "schema_version": 3,
     "solution": false,
     "task": false
    }
   },
   "outputs": [
   ],
   "source": [
    "# Testing Part 2\n",
    "import sqlite3\n",
    "from nose.tools import assert_equal, assert_in\n",
    "\n",
    "# Setting up sqlite3 for unit tests\n",
    "con = sqlite3.connect(':memory:')\n",
    "cur = con.cursor()\n",
    "\n",
    "# Running all the code in act7create.sql\n",
    "with open('act7create.sql') as file:\n",
    "    cur.executescript(file.read())\n",
    "\n",
    "# Checking Keys and Constraints:\n",
    "table_info = cur.execute(\"PRAGMA table_info('Yotes');\").fetchall()\n",
    "\n",
    "primary_keys = {t[1] for t in table_info if t[-1]}\n",
    "assert_equal(primary_keys, {'YoteId'}, 'Checking the Primary Key')\n",
    "\n",
    "not_nulls = {t[1] for t in table_info if t[3]}\n",
    "assert_in('Email', not_nulls, 'Checking the attributes that cannot be null')\n",
    "\n",
    "# Checking Emails are unique:\n",
    "try:\n",
    "    cur.executescript(\"\"\"  \n",
    "    INSERT INTO Yotes (Email) VALUES ('a@b.edu'), ('a@b.edu');\n",
    "    \"\"\")\n",
    "except Exception as err:\n",
    "    message2 = str(err)\n",
    "\n",
    "assert_equal(message2, 'UNIQUE constraint failed: Yotes.Email')\n",
    "\n",
    "con.close()"
   ]
  },
  {
   "cell_type": "code",
   "execution_count": 5,
   "metadata": {
    "collapsed": false,
    "deletable": false,
    "editable": false,
    "nbgrader": {
     "grade": true,
     "grade_id": "573880",
     "locked": true,
     "points": 2,
     "schema_version": 3,
     "solution": false,
     "task": false
    }
   },
   "outputs": [
   ],
   "source": [
    "# Testing Part 3a\n",
    "import sqlite3\n",
    "from nose.tools import assert_equal, assert_greater\n",
    "\n",
    "# Setting up sqlite3 for unit tests\n",
    "con = sqlite3.connect(':memory:')\n",
    "cur = con.cursor()\n",
    "\n",
    "# Running all the code in act7create.sql\n",
    "with open('act7create.sql') as file:\n",
    "    cur.executescript(file.read())\n",
    "\n",
    "#Checking Keys:\n",
    "table_info = cur.execute(\"PRAGMA table_info('CourseDetails');\").fetchall()\n",
    "\n",
    "primary_keys = {t[1] for t in table_info if t[-1]}\n",
    "assert_equal(primary_keys, {'CourseSubject', 'CourseNumber'}, 'Checking the Primary Key')\n",
    "\n",
    "mystery = {t[1] for t in table_info if t[3]}\n",
    "assert_greater(len(mystery), 1, 'Checking if you added the extra constraint(s) to enforce the Primary Key constraint')\n",
    "\n",
    "con.close()"
   ]
  },
  {
   "cell_type": "code",
   "execution_count": 6,
   "metadata": {
    "collapsed": false,
    "deletable": false,
    "editable": false,
    "nbgrader": {
     "grade": true,
     "grade_id": "bc58d3",
     "locked": true,
     "points": 1,
     "schema_version": 3,
     "solution": false,
     "task": false
    }
   },
   "outputs": [
   ],
   "source": [
    "# Testing Part 3b\n",
    "import sqlite3\n",
    "from nose.tools import assert_equal\n",
    "\n",
    "# Setting up sqlite3 for unit tests\n",
    "con = sqlite3.connect(':memory:')\n",
    "cur = con.cursor()\n",
    "\n",
    "# Running all the code in act7create.sql\n",
    "with open('act7create.sql') as file:\n",
    "    cur.executescript(file.read())\n",
    "\n",
    "#Checking Keys:\n",
    "table_info = cur.execute(\"PRAGMA table_info('CourseStudent');\").fetchall()\n",
    "\n",
    "primary_keys = {t[1] for t in table_info if t[-1]}\n",
    "assert_equal(primary_keys, {'CourseId', 'StudentId'}, 'Checking the Primary Key')\n",
    "\n",
    "con.close()"
   ]
  },
  {
   "cell_type": "code",
   "execution_count": 7,
   "metadata": {
    "collapsed": false,
    "deletable": false,
    "editable": false,
    "nbgrader": {
     "grade": true,
     "grade_id": "302604",
     "locked": true,
     "points": 1,
     "schema_version": 3,
     "solution": false,
     "task": false
    }
   },
   "outputs": [
   ],
   "source": [
    "# Testing Part 3c\n",
    "import sqlite3\n",
    "from nose.tools import assert_equal, assert_not_equal\n",
    "\n",
    "# Setting up sqlite3 for unit tests\n",
    "con = sqlite3.connect(':memory:')\n",
    "cur = con.cursor()\n",
    "\n",
    "# Running all the code in act7create.sql\n",
    "with open('act7create.sql') as file:\n",
    "    cur.executescript(file.read())\n",
    "\n",
    "#Checking Keys:\n",
    "tables = {t[0] for t in cur.execute(\"SELECT tbl_name FROM sqlite_master;\").fetchall()}\n",
    "\n",
    "for table in tables:\n",
    "    table_info = cur.execute(f\"PRAGMA table_info({table});\").fetchall()\n",
    "    primary_keys = {t[1] for t in table_info if t[-1]}\n",
    "    assert_not_equal(len(primary_keys), 0, 'Checking that each table has a primary key')\n",
    "\n",
    "# There are hidden tests which will check if you have the correct Primary Keys.\n",
    "\n",
    "con.close()"
   ]
  },
  {
   "cell_type": "code",
   "execution_count": 8,
   "metadata": {
    "collapsed": false,
    "deletable": false,
    "editable": false,
    "nbgrader": {
     "grade": true,
     "grade_id": "791136",
     "locked": true,
     "points": 1,
     "schema_version": 3,
     "solution": false,
     "task": false
    }
   },
   "outputs": [
   ],
   "source": [
    "# Testing Part 3d part 1\n",
    "import sqlite3\n",
    "from nose.tools import assert_in\n",
    "\n",
    "# Setting up sqlite3 for unit tests\n",
    "con = sqlite3.connect(':memory:')\n",
    "cur = con.cursor()\n",
    "\n",
    "# Running all the code in act7create.sql\n",
    "with open('act7create.sql') as file:\n",
    "    cur.executescript(file.read())\n",
    "\n",
    "#Checking Keys:\n",
    "fk_info = {t for t in cur.execute(\"PRAGMA foreign_key_list('Courses');\").fetchall()}\n",
    "\n",
    "foreign_keys = {(fk[2], fk[3], fk[4]) for fk in fk_info}\n",
    "assert_in(('Yotes', 'InstructorId', 'YoteId'), foreign_keys, 'Checking a FK')\n",
    "\n",
    "con.close()"
   ]
  },
  {
   "cell_type": "code",
   "execution_count": 9,
   "metadata": {
    "collapsed": false,
    "deletable": false,
    "editable": false,
    "nbgrader": {
     "grade": true,
     "grade_id": "a05c29",
     "locked": true,
     "points": 1,
     "schema_version": 3,
     "solution": false,
     "task": false
    }
   },
   "outputs": [
   ],
   "source": [
    "# Testing Part 3d part 2\n",
    "import sqlite3\n",
    "from nose.tools import assert_in, assert_equal, assert_not_equal\n",
    "\n",
    "# Setting up sqlite3 for unit tests\n",
    "con = sqlite3.connect(':memory:')\n",
    "cur = con.cursor()\n",
    "\n",
    "# Running all the code in act7create.sql\n",
    "with open('act7create.sql') as file:\n",
    "    cur.executescript(file.read())\n",
    "\n",
    "#Checking Keys:\n",
    "fk_info = {t for t in cur.execute(\"PRAGMA foreign_key_list('Courses');\").fetchall()}\n",
    "\n",
    "foreign_keys = {(fk[2], fk[3], fk[4]) for fk in fk_info}\n",
    "assert_in(('CourseDetails', 'CourseSubject', 'CourseSubject',), foreign_keys, 'Checking CourseSubject FK')\n",
    "assert_in(('CourseDetails', 'CourseNumber', 'CourseNumber',),   foreign_keys, 'Checking CourseNumber FK')\n",
    "\n",
    "fks = [fk for fk in fk_info if fk[2] == 'CourseDetails']\n",
    "assert_equal(len(fks), 2,              'Checking the reference to CourseDetails is setup as a *compound* FK')\n",
    "assert_equal(fks[0][0], fks[1][0],     'Checking the reference to CourseDetails is setup as a *compound* FK')\n",
    "assert_not_equal(fks[0][1], fks[1][1], 'Checking the reference to CourseDetails is setup as a *compound* FK')\n",
    "\n",
    "con.close()"
   ]
  },
  {
   "cell_type": "code",
   "execution_count": 10,
   "metadata": {
    "collapsed": false,
    "deletable": false,
    "editable": false,
    "nbgrader": {
     "grade": true,
     "grade_id": "240db1",
     "locked": true,
     "points": 2,
     "schema_version": 3,
     "solution": false,
     "task": false
    }
   },
   "outputs": [
   ],
   "source": [
    "# Testing Part 3e\n",
    "import sqlite3\n",
    "from nose.tools import assert_equal\n",
    "\n",
    "# Setting up sqlite3 for unit tests\n",
    "con = sqlite3.connect(':memory:')\n",
    "cur = con.cursor()\n",
    "\n",
    "# Running all the code in act7create.sql\n",
    "with open('act7create.sql') as file:\n",
    "    cur.executescript(file.read())\n",
    "\n",
    "#Checking Keys:\n",
    "tables = {t[0] for t in cur.execute(\"SELECT tbl_name FROM sqlite_master;\").fetchall()}\n",
    "fk_count = sum([len(cur.execute(f\"PRAGMA foreign_key_list({table});\").fetchall()) for table in tables])\n",
    "\n",
    "assert_equal(fk_count, 6, \"Checking the number of FK's\")\n",
    "\n",
    "# There are hidden tests which will check if you have the correct Foreign Keys.\n",
    "\n",
    "con.close()"
   ]
  },
  {
   "cell_type": "code",
   "execution_count": 11,
   "metadata": {
    "collapsed": false,
    "deletable": false,
    "editable": false,
    "nbgrader": {
     "grade": true,
     "grade_id": "0b444f",
     "locked": true,
     "points": 2,
     "schema_version": 3,
     "solution": false,
     "task": false
    }
   },
   "outputs": [
   ],
   "source": [
    "# Testing Part 3f\n",
    "import sqlite3\n",
    "from nose.tools import assert_equal, assert_not_equal\n",
    "\n",
    "# Setting up sqlite3 for unit tests\n",
    "con = sqlite3.connect(':memory:')\n",
    "cur = con.cursor()\n",
    "\n",
    "# Running all the code in act7create.sql\n",
    "with open('act7create.sql') as file:\n",
    "    cur.executescript(file.read())\n",
    "\n",
    "#Checking Actions:\n",
    "tables = {t[0] for t in cur.execute(\"SELECT tbl_name FROM sqlite_master;\").fetchall()}\n",
    "fk_info = {f for table in tables for f in cur.execute(f\"PRAGMA foreign_key_list({table});\").fetchall()}\n",
    "\n",
    "actions = {fk[-2] for fk in fk_info if fk[2] == 'CourseDetails'}\n",
    "for a in actions:\n",
    "    assert_not_equal(a, 'NO ACTION', 'Checking ON DELETE actions for references to CourseDetails')\n",
    "\n",
    "action = [fk[-2] for fk in fk_info if fk[3] == 'InstructorId'][0]\n",
    "assert_not_equal(action, 'NO ACTION', 'Checking ON DELETE action for InstructorId')\n",
    "\n",
    "# There are hidden tests which will check if you have the correct actions.\n",
    "\n",
    "con.close()"
   ]
  },
  {
   "cell_type": "code",
   "execution_count": 12,
   "metadata": {
    "collapsed": false,
    "deletable": false,
    "editable": false,
    "nbgrader": {
     "grade": true,
     "grade_id": "574cdb",
     "locked": true,
     "points": 1,
     "schema_version": 3,
     "solution": false,
     "task": false
    }
   },
   "outputs": [
   ],
   "source": [
    "# Testing Part 3g\n",
    "import sqlite3\n",
    "from nose.tools import assert_in\n",
    "\n",
    "# Setting up sqlite3 for unit tests\n",
    "con = sqlite3.connect(':memory:')\n",
    "cur = con.cursor()\n",
    "\n",
    "# Running all the code in act7create.sql\n",
    "with open('act7create.sql') as file:\n",
    "    cur.executescript(file.read())\n",
    "\n",
    "# Checking constraint:\n",
    "table_info = cur.execute(\"PRAGMA table_info('CourseDetails');\").fetchall()\n",
    "\n",
    "not_nulls = {t[1] for t in table_info if t[3]}\n",
    "assert_in('Title', not_nulls, 'Checking the attributes that cannot be null')\n",
    "\n",
    "con.close()"
   ]
  },
  {
   "cell_type": "code",
   "execution_count": 13,
   "metadata": {
    "collapsed": false,
    "deletable": false,
    "editable": false,
    "nbgrader": {
     "grade": true,
     "grade_id": "c95a63",
     "locked": true,
     "points": 1,
     "schema_version": 3,
     "solution": false,
     "task": false
    }
   },
   "outputs": [
   ],
   "source": [
    "# Testing Part 3h\n",
    "import sqlite3\n",
    "from nose.tools import assert_in\n",
    "\n",
    "# Setting up sqlite3 for unit tests\n",
    "con = sqlite3.connect(':memory:')\n",
    "cur = con.cursor()\n",
    "\n",
    "# Running all the code in act7create.sql\n",
    "with open('act7create.sql') as file:\n",
    "    cur.executescript(file.read())\n",
    "\n",
    "# Checking constraint:\n",
    "tests = [(11, 'CHECK constraint failed'),\n",
    "         (-1, 'CHECK constraint failed'),\n",
    "         (10, 'No Error'),\n",
    "         (0, 'No Error'),\n",
    "         (4, 'No Error')]\n",
    "num = 100\n",
    "\n",
    "for credit, msg in tests:\n",
    "    num += 1\n",
    "    try:\n",
    "        cur.executescript(f\"\"\"  \n",
    "        INSERT INTO CourseDetails (CourseSubject, CourseNumber, Title, Credits) VALUES ('ABC', '{num}', 'Computers', {credit});\n",
    "        \"\"\")\n",
    "        message = 'No Error'\n",
    "    except Exception as err:\n",
    "        message = str(err)\n",
    "\n",
    "    assert_in(msg, message, f'Checking credits = {credit}')\n",
    "\n",
    "con.close()"
   ]
  },
  {
   "cell_type": "code",
   "execution_count": 14,
   "metadata": {
    "collapsed": false,
    "deletable": false,
    "editable": false,
    "nbgrader": {
     "grade": true,
     "grade_id": "e4731e",
     "locked": true,
     "points": 1,
     "schema_version": 3,
     "solution": false,
     "task": false
    }
   },
   "outputs": [
   ],
   "source": [
    "# Testing Part 3i\n",
    "import sqlite3\n",
    "from nose.tools import assert_equal\n",
    "\n",
    "# Setting up sqlite3 for unit tests\n",
    "con = sqlite3.connect(':memory:')\n",
    "cur = con.cursor()\n",
    "\n",
    "# Running all the code in act7create.sql\n",
    "with open('act7create.sql') as file:\n",
    "    cur.executescript(file.read())\n",
    "\n",
    "# Checking default:\n",
    "table_info = cur.execute(\"PRAGMA table_info('Courses');\").fetchall()\n",
    "\n",
    "for t in table_info:\n",
    "    if t[1] == 'Section':\n",
    "        default = t[-2]\n",
    "\n",
    "assert_equal(default, '1', 'Checking the default')\n",
    "\n",
    "con.close()"
   ]
  },
  {
   "cell_type": "code",
   "execution_count": 15,
   "metadata": {
    "collapsed": false,
    "deletable": false,
    "editable": false,
    "nbgrader": {
     "grade": true,
     "grade_id": "63904e",
     "locked": true,
     "points": 1,
     "schema_version": 3,
     "solution": false,
     "task": false
    }
   },
   "outputs": [
   ],
   "source": [
    "# Testing Part 3j\n",
    "import sqlite3\n",
    "from nose.tools import assert_in\n",
    "\n",
    "# Setting up sqlite3 for unit tests\n",
    "con = sqlite3.connect(':memory:')\n",
    "cur = con.cursor()\n",
    "\n",
    "# Running all the code in act7create.sql\n",
    "with open('act7create.sql') as file:\n",
    "    cur.executescript(file.read())\n",
    "\n",
    "# Checking constraint:\n",
    "try:\n",
    "    cur.executescript(f\"\"\"  \n",
    "    INSERT INTO CourseMeetings (StartTime, EndTime) VALUES ('10:00', '09:50');\n",
    "    \"\"\")\n",
    "    message = 'No Error'\n",
    "except Exception as err:\n",
    "    message = str(err)\n",
    "\n",
    "assert_in('CHECK constraint failed', message)\n",
    "\n",
    "con.close()"
   ]
  },
  {
   "cell_type": "code",
   "execution_count": 16,
   "metadata": {
    "collapsed": false,
    "deletable": false,
    "editable": false,
    "nbgrader": {
     "grade": true,
     "grade_id": "b6ea03",
     "locked": true,
     "points": 1,
     "schema_version": 3,
     "solution": false,
     "task": false
    }
   },
   "outputs": [
   ],
   "source": [
    "# Testing Part 3k\n",
    "import sqlite3\n",
    "from nose.tools import assert_in\n",
    "\n",
    "# Setting up sqlite3 for unit tests\n",
    "con = sqlite3.connect(':memory:')\n",
    "cur = con.cursor()\n",
    "\n",
    "# Running all the code in act7create.sql\n",
    "with open('act7create.sql') as file:\n",
    "    cur.executescript(file.read())\n",
    "\n",
    "# Checking constraint:\n",
    "try:\n",
    "    cur.executescript(f\"\"\"  \n",
    "    INSERT INTO Courses (CourseSubject, CourseNumber, Term) VALUES ('ABC', '123', 'Sp');\n",
    "    \"\"\")\n",
    "    message = 'No Error'\n",
    "except Exception as err:\n",
    "    message = str(err)\n",
    "\n",
    "assert_in('CHECK constraint failed', message, \"Checking Term = 'Sp'\")\n",
    "\n",
    "try:\n",
    "    cur.executescript(f\"\"\"  \n",
    "    INSERT INTO Courses (CourseSubject, CourseNumber, Term) VALUES ('ABC', '123', 'F');\n",
    "    \"\"\")\n",
    "    message = 'No Error'\n",
    "except Exception as err:\n",
    "    message = str(err)\n",
    "\n",
    "assert_in('CHECK constraint failed', message, \"Checking Term = 'F'\")\n",
    "\n",
    "try:\n",
    "    cur.executescript(f\"\"\"  \n",
    "    INSERT INTO Courses (CourseSubject, CourseNumber, Term) VALUES ('ABC', '123', 'Fall');\n",
    "    \"\"\")\n",
    "    message = 'No Error'\n",
    "except Exception as err:\n",
    "    message = str(err)\n",
    "\n",
    "assert_in('No Error', message, \"Checking Term = 'Fall'\")\n",
    "\n",
    "con.close()"
   ]
  },
  {
   "cell_type": "code",
   "execution_count": 17,
   "metadata": {
    "collapsed": false,
    "deletable": false,
    "editable": false,
    "nbgrader": {
     "grade": true,
     "grade_id": "4632e4",
     "locked": true,
     "points": 4,
     "schema_version": 3,
     "solution": false,
     "task": false
    }
   },
   "outputs": [
   ],
   "source": [
    "# Testing Part 4\n",
    "import sqlite3\n",
    "from nose.tools import assert_equal, assert_greater\n",
    "\n",
    "# Setting up sqlite3 for unit tests\n",
    "con = sqlite3.connect(':memory:')\n",
    "cur = con.cursor()\n",
    "\n",
    "# Running all the code in act7create.sql\n",
    "with open('act7create.sql') as file:\n",
    "    cur.executescript(file.read())\n",
    "    \n",
    "# Running all the code in act7insert.sql\n",
    "with open('act7insert.sql') as file:\n",
    "    cur.executescript(file.read())\n",
    "    \n",
    "# Checking there is data in the database\n",
    "tables = {t[0] for t in cur.execute(\"SELECT tbl_name FROM sqlite_master;\").fetchall()}\n",
    "assert_equal(tables, {'CourseDetails', 'CourseMeetings', 'CourseStudent', 'Courses', 'Yotes'})\n",
    "\n",
    "for table in tables:\n",
    "    rows = cur.execute(f\"SELECT * FROM {table};\").fetchall()\n",
    "    assert_greater(len(rows), 2)\n",
    "\n",
    "# Checking there are no FK violators\n",
    "fk_violators = cur.execute(\"PRAGMA foreign_key_check;\").fetchall()\n",
    "assert_equal(len(fk_violators), 0, \"Checking that there are no FK violations\")\n",
    "\n",
    "con.close()"
   ]
  }
 ],
 "metadata": {
  "kernelspec": {
   "argv": [
    "/usr/bin/python3",
    "-m",
    "ipykernel",
    "--HistoryManager.enabled=False",
    "--matplotlib=inline",
    "-c",
    "%config InlineBackend.figure_formats = set(['retina'])\nimport matplotlib; matplotlib.rcParams['figure.figsize'] = (12, 7)",
    "-f",
    "{connection_file}"
   ],
   "display_name": "Python 3 (system-wide)",
   "env": {
   },
   "language": "python",
   "metadata": {
    "cocalc": {
     "description": "Python 3 programming language",
     "priority": 100,
     "url": "https://www.python.org/"
    }
   },
   "name": "python3",
   "resource_dir": "/ext/jupyter/kernels/python3"
  },
  "nbgrader": {
   "__altered": false,
   "__hash": -688996206,
   "_root": {
    "entries": [
     [
      "size",
      6
     ],
     [
      "_root",
      {
       "entries": [
        [
         "size",
         6
        ],
        [
         "_root",
         {
          "entries": [
           [
            "size",
            6
           ],
           [
            "_root",
            {
             "entries": [
              [
               "size",
               6
              ],
              [
               "_root",
               {
                "entries": [
                 [
                  "size",
                  6
                 ],
                 [
                  "_root",
                  {
                   "entries": [
                    [
                     "size",
                     6
                    ],
                    [
                     "_root",
                     {
                      "entries": [
                       [
                        "size",
                        1
                       ],
                       [
                        "_root",
                        {
                         "entries": [
                          [
                           "cocalc_minimal_stubs",
                           true
                          ]
                         ],
                         "ownerID": {
                         }
                        }
                       ],
                       [
                        "__ownerID",
                        null
                       ],
                       [
                        "__hash",
                        912286151
                       ],
                       [
                        "__altered",
                        false
                       ],
                       [
                        "cocalc_minimal_stubs",
                        true
                       ]
                      ],
                      "ownerID": {
                      }
                     }
                    ],
                    [
                     "__ownerID",
                     null
                    ],
                    [
                     "__hash",
                     853781301
                    ],
                    [
                     "__altered",
                     false
                    ],
                    [
                     "cocalc_minimal_stubs",
                     true
                    ]
                   ],
                   "ownerID": {
                   }
                  }
                 ],
                 [
                  "__ownerID",
                  null
                 ],
                 [
                  "__hash",
                  615395691
                 ],
                 [
                  "__altered",
                  false
                 ],
                 [
                  "cocalc_minimal_stubs",
                  true
                 ]
                ],
                "ownerID": {
                }
               }
              ],
              [
               "__ownerID",
               null
              ],
              [
               "__hash",
               132559425
              ],
              [
               "__altered",
               false
              ],
              [
               "cocalc_minimal_stubs",
               true
              ]
             ],
             "ownerID": {
             }
            }
           ],
           [
            "__ownerID",
            null
           ],
           [
            "__hash",
            534908128
           ],
           [
            "__altered",
            false
           ],
           [
            "cocalc_minimal_stubs",
            true
           ]
          ],
          "ownerID": {
          }
         }
        ],
        [
         "__ownerID",
         null
        ],
        [
         "__hash",
         -40698486
        ],
        [
         "__altered",
         false
        ],
        [
         "cocalc_minimal_stubs",
         true
        ]
       ],
       "ownerID": {
       }
      }
     ],
     [
      "__ownerID",
      null
     ],
     [
      "__hash",
      423065938
     ],
     [
      "__altered",
      false
     ],
     [
      "cocalc_minimal_stubs",
      true
     ]
    ],
    "ownerID": {
    }
   },
   "cocalc_minimal_stubs": true,
   "size": 6
  }
 },
 "nbformat": 4,
 "nbformat_minor": 4
}