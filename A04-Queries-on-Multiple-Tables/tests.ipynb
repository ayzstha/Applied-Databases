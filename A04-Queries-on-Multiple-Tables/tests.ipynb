{
 "cells": [
  {
   "cell_type": "markdown",
   "metadata": {
    "collapsed": false,
    "deletable": false,
    "editable": false,
    "nbgrader": {
     "grade": false,
     "grade_id": "071dc6",
     "locked": true,
     "schema_version": 3,
     "solution": false,
     "task": false
    }
   },
   "source": [
    "# Tests for Activity 4"
   ]
  },
  {
   "cell_type": "markdown",
   "metadata": {
    "collapsed": false,
    "deletable": false,
    "editable": false,
    "nbgrader": {
     "grade": false,
     "grade_id": "4935a2",
     "locked": true,
     "schema_version": 3,
     "solution": false,
     "task": false
    }
   },
   "source": [
    "## Tests: Chinook"
   ]
  },
  {
   "cell_type": "code",
   "execution_count": 4,
   "metadata": {
    "collapsed": false,
    "deletable": false,
    "editable": false,
    "nbgrader": {
     "grade": true,
     "grade_id": "c0bb51",
     "locked": true,
     "points": 2,
     "schema_version": 3,
     "solution": false,
     "task": false
    }
   },
   "outputs": [
   ],
   "source": [
    "# Test for part 1\n",
    "from nose.tools import assert_equal, assert_in\n",
    "from csc270tools import get_table\n",
    "\n",
    "# Running the code in act4Chinook.sql to get the table for this part\n",
    "table = get_table('act4Chinook.sql', 'Chinook.db', 0)\n",
    "\n",
    "assert_in(('Restless and Wild', 'Accept'), table, 'Checking a row')\n",
    "assert_in(('Respighi:Pines of Rome', 'Eugene Ormandy'), table, 'Checking another row')\n"
   ]
  },
  {
   "cell_type": "code",
   "execution_count": 6,
   "metadata": {
    "collapsed": false,
    "deletable": false,
    "editable": false,
    "nbgrader": {
     "grade": true,
     "grade_id": "e54dc1",
     "locked": true,
     "points": 2,
     "schema_version": 3,
     "solution": false,
     "task": false
    }
   },
   "outputs": [
   ],
   "source": [
    "# Test for part 2\n",
    "from nose.tools import assert_equal\n",
    "from csc270tools import get_table\n",
    "\n",
    "# Running the code in act4Chinook.sql to get the table for this part\n",
    "table = get_table('act4Chinook.sql', 'Chinook.db', 1)\n",
    "\n",
    "assert_equal(table[0], ('Julia Barnett', 'Steve Johnson'), 'Checking the first row')\n",
    "assert_equal(table[-1], ('Fynn Zimmermann', 'Jane Peacock'), 'Checking the last row')\n"
   ]
  },
  {
   "cell_type": "code",
   "execution_count": 8,
   "metadata": {
    "collapsed": false,
    "deletable": false,
    "editable": false,
    "nbgrader": {
     "grade": true,
     "grade_id": "659fe4",
     "locked": true,
     "points": 2,
     "schema_version": 3,
     "solution": false,
     "task": false
    }
   },
   "outputs": [
   ],
   "source": [
    "# Test for part 3\n",
    "from nose.tools import assert_equal, assert_in\n",
    "from csc270tools import get_table\n",
    "\n",
    "# Running the code in act4Chinook.sql to get the table for this part\n",
    "table = get_table('act4Chinook.sql', 'Chinook.db', 2)\n",
    "\n",
    "assert_in(('Nancy Edwards', 'Andrew Adams'), table, 'Checking a row')\n",
    "assert_equal(table[-1], ('Andrew Adams', None), 'Checking the last row')\n"
   ]
  },
  {
   "cell_type": "code",
   "execution_count": 1,
   "metadata": {
    "collapsed": false,
    "deletable": false,
    "editable": false,
    "nbgrader": {
     "grade": true,
     "grade_id": "74c926",
     "locked": true,
     "points": 2,
     "schema_version": 3,
     "solution": false,
     "task": false
    }
   },
   "outputs": [
   ],
   "source": [
    "# Test for part 4\n",
    "from nose.tools import assert_equal, assert_in\n",
    "from csc270tools import get_table\n",
    "\n",
    "# Running the code in act4Chinook.sql to get the table for this part\n",
    "table = get_table('act4Chinook.sql', 'Chinook.db', 3)\n",
    "\n",
    "assert_in(('Hunger Strike', 'Grunge'), table, 'Checking one row')\n",
    "assert_in(('The Zoo', 'Heavy Metal Classic'), table, 'Checking another row')\n"
   ]
  },
  {
   "cell_type": "code",
   "execution_count": 3,
   "metadata": {
    "collapsed": false,
    "deletable": false,
    "editable": false,
    "nbgrader": {
     "grade": true,
     "grade_id": "bf3ae9",
     "locked": true,
     "points": 2,
     "schema_version": 3,
     "solution": false,
     "task": false
    }
   },
   "outputs": [
   ],
   "source": [
    "# Test for part 5\n",
    "from nose.tools import assert_equal\n",
    "from csc270tools import get_table\n",
    "\n",
    "# Running the code in act4Chinook.sql to get the table for this part\n",
    "table = get_table('act4Chinook.sql', 'Chinook.db', 4)\n",
    "\n",
    "assert_equal(len(table), 22, 'Checking the number of rows')\n",
    "assert_equal(table[-1], (49.74, 'Intro', 'No Security', 'The Rolling Stones'), 'Checking the last row')\n"
   ]
  },
  {
   "cell_type": "code",
   "execution_count": 4,
   "metadata": {
    "collapsed": false,
    "deletable": false,
    "editable": false,
    "nbgrader": {
     "grade": true,
     "grade_id": "1befd5",
     "locked": true,
     "points": 2,
     "schema_version": 3,
     "solution": false,
     "task": false
    }
   },
   "outputs": [
   ],
   "source": [
    "# Test for part 6\n",
    "from nose.tools import assert_equal\n",
    "from csc270tools import get_table\n",
    "\n",
    "# Running the code in act4Chinook.sql to get the table for this part\n",
    "table = get_table('act4Chinook.sql', 'Chinook.db', 5)\n",
    "\n",
    "assert_equal(table[0], ('09 - Iron Maiden',), 'Checking the first row')\n",
    "assert_equal(table[-1], ('Walking On The Water',), 'Checking the last row')\n"
   ]
  },
  {
   "cell_type": "code",
   "execution_count": 6,
   "metadata": {
    "collapsed": false,
    "deletable": false,
    "editable": false,
    "nbgrader": {
     "grade": true,
     "grade_id": "3145f9",
     "locked": true,
     "points": 2,
     "schema_version": 3,
     "solution": false,
     "task": false
    }
   },
   "outputs": [
   ],
   "source": [
    "# Test for part 7\n",
    "from nose.tools import assert_equal, assert_in\n",
    "from csc270tools import get_table\n",
    "\n",
    "# Running the code in act4Chinook.sql to get the table for this part\n",
    "table = get_table('act4Chinook.sql', 'Chinook.db', 6)\n",
    "\n",
    "assert_in((4, 'Hansen'), table, 'Checking a row')\n",
    "assert_in((13, 'Ramos'), table, 'Checking another row')\n"
   ]
  },
  {
   "cell_type": "markdown",
   "metadata": {
    "collapsed": false,
    "deletable": false,
    "editable": false,
    "nbgrader": {
     "grade": false,
     "grade_id": "59d1b6",
     "locked": true,
     "schema_version": 3,
     "solution": false,
     "task": false
    }
   },
   "source": [
    "## Tests: Harry Potter Families"
   ]
  },
  {
   "cell_type": "code",
   "execution_count": 8,
   "metadata": {
    "collapsed": false,
    "deletable": false,
    "editable": false,
    "nbgrader": {
     "grade": true,
     "grade_id": "5be9e6",
     "locked": true,
     "points": 3,
     "schema_version": 3,
     "solution": false,
     "task": false
    }
   },
   "outputs": [
   ],
   "source": [
    "# Test for part 1\n",
    "from nose.tools import assert_equal, assert_in\n",
    "from csc270tools import get_table\n",
    "\n",
    "# Running the code in act4Potter.sql to get the table for this part\n",
    "table = get_table('act4Potter.sql', 'Potter.db', 0)\n",
    "\n",
    "assert_in(('James Potter', 'Harry Potter'), table, 'Checking a row')\n",
    "assert_in(('Molly Prewett', 'George Weasley'), table, 'Checking another row')\n"
   ]
  },
  {
   "cell_type": "code",
   "execution_count": 3,
   "metadata": {
    "collapsed": false,
    "deletable": false,
    "editable": false,
    "nbgrader": {
     "grade": true,
     "grade_id": "3089f0",
     "locked": true,
     "points": 3,
     "schema_version": 3,
     "solution": false,
     "task": false
    }
   },
   "outputs": [
    {
     "ename": "OperationalError",
     "evalue": "near \"Names\": syntax error",
     "output_type": "error",
     "traceback": [
      "\u001b[0;31m---------------------------------------------------------------------------\u001b[0m",
      "\u001b[0;31mOperationalError\u001b[0m                          Traceback (most recent call last)",
      "\u001b[0;32m/tmp/ipykernel_227/2064845553.py\u001b[0m in \u001b[0;36m<cell line: 6>\u001b[0;34m()\u001b[0m\n\u001b[1;32m      4\u001b[0m \u001b[0;34m\u001b[0m\u001b[0m\n\u001b[1;32m      5\u001b[0m \u001b[0;31m# Running the code in act4Potter.sql to get the table for this part\u001b[0m\u001b[0;34m\u001b[0m\u001b[0;34m\u001b[0m\u001b[0m\n\u001b[0;32m----> 6\u001b[0;31m \u001b[0mtable\u001b[0m \u001b[0;34m=\u001b[0m \u001b[0mget_table\u001b[0m\u001b[0;34m(\u001b[0m\u001b[0;34m'act4Potter.sql'\u001b[0m\u001b[0;34m,\u001b[0m \u001b[0;34m'Potter.db'\u001b[0m\u001b[0;34m,\u001b[0m \u001b[0;36m1\u001b[0m\u001b[0;34m)\u001b[0m\u001b[0;34m\u001b[0m\u001b[0;34m\u001b[0m\u001b[0m\n\u001b[0m\u001b[1;32m      7\u001b[0m \u001b[0;34m\u001b[0m\u001b[0m\n\u001b[1;32m      8\u001b[0m \u001b[0massert_equal\u001b[0m\u001b[0;34m(\u001b[0m\u001b[0mtable\u001b[0m\u001b[0;34m[\u001b[0m\u001b[0;36m0\u001b[0m\u001b[0;34m]\u001b[0m\u001b[0;34m,\u001b[0m \u001b[0;34m(\u001b[0m\u001b[0;34m'Bill'\u001b[0m\u001b[0;34m,\u001b[0m\u001b[0;34m)\u001b[0m\u001b[0;34m,\u001b[0m \u001b[0;34m'Checking the first row'\u001b[0m\u001b[0;34m)\u001b[0m\u001b[0;34m\u001b[0m\u001b[0;34m\u001b[0m\u001b[0m\n",
      "\u001b[0;32m~/csc270/Activities/A04-Queries-on-Multiple-Tables/csc270tools.py\u001b[0m in \u001b[0;36mget_table\u001b[0;34m(sql_file, database, index)\u001b[0m\n\u001b[1;32m     14\u001b[0m     \u001b[0;31m# Running the query found in the file at the location specified by index\u001b[0m\u001b[0;34m\u001b[0m\u001b[0;34m\u001b[0m\u001b[0m\n\u001b[1;32m     15\u001b[0m     \u001b[0mquery\u001b[0m \u001b[0;34m=\u001b[0m \u001b[0mqueries\u001b[0m\u001b[0;34m[\u001b[0m\u001b[0mindex\u001b[0m\u001b[0;34m]\u001b[0m\u001b[0;34m\u001b[0m\u001b[0;34m\u001b[0m\u001b[0m\n\u001b[0;32m---> 16\u001b[0;31m     \u001b[0mtable\u001b[0m \u001b[0;34m=\u001b[0m \u001b[0mcur\u001b[0m\u001b[0;34m.\u001b[0m\u001b[0mexecute\u001b[0m\u001b[0;34m(\u001b[0m\u001b[0mquery\u001b[0m\u001b[0;34m)\u001b[0m\u001b[0;34m.\u001b[0m\u001b[0mfetchall\u001b[0m\u001b[0;34m(\u001b[0m\u001b[0;34m)\u001b[0m\u001b[0;34m\u001b[0m\u001b[0;34m\u001b[0m\u001b[0m\n\u001b[0m\u001b[1;32m     17\u001b[0m \u001b[0;34m\u001b[0m\u001b[0m\n\u001b[1;32m     18\u001b[0m     \u001b[0mcon\u001b[0m\u001b[0;34m.\u001b[0m\u001b[0mclose\u001b[0m\u001b[0;34m(\u001b[0m\u001b[0;34m)\u001b[0m\u001b[0;34m\u001b[0m\u001b[0;34m\u001b[0m\u001b[0m\n",
      "\u001b[0;31mOperationalError\u001b[0m: near \"Names\": syntax error"
     ]
    }
   ],
   "source": [
    "# Test for part 2\n",
    "from nose.tools import assert_equal\n",
    "from csc270tools import get_table\n",
    "\n",
    "# Running the code in act4Potter.sql to get the table for this part\n",
    "table = get_table('act4Potter.sql', 'Potter.db', 1)\n",
    "\n",
    "assert_equal(table[0], ('Bill',), 'Checking the first row')\n",
    "assert_equal(len(table), 5, 'Checking the number of rows')\n"
   ]
  },
  {
   "cell_type": "code",
   "execution_count": 0,
   "metadata": {
    "collapsed": false,
    "deletable": false,
    "editable": false,
    "nbgrader": {
     "grade": true,
     "grade_id": "a50810",
     "locked": true,
     "points": 3,
     "schema_version": 3,
     "solution": false,
     "task": false
    }
   },
   "outputs": [
   ],
   "source": [
    "# Test for part 3\n",
    "from nose.tools import assert_equal, assert_in\n",
    "from csc270tools import get_table\n",
    "\n",
    "# Running the code in act4Potter.sql to get the table for this part\n",
    "table = get_table('act4Potter.sql', 'Potter.db', 2)\n",
    "\n",
    "assert_in(('James Potter', 'Harry Potter', 'James Potter'), table, 'Checking a row')\n",
    "assert_in(('Molly Prewett', 'Ron Weasley', 'Hugo Granger-Weasley'), table, 'Checking another row')\n"
   ]
  }
 ],
 "metadata": {
  "kernelspec": {
   "argv": [
    "/usr/bin/python3",
    "-m",
    "ipykernel",
    "--HistoryManager.enabled=False",
    "--matplotlib=inline",
    "-c",
    "%config InlineBackend.figure_formats = set(['retina'])\nimport matplotlib; matplotlib.rcParams['figure.figsize'] = (12, 7)",
    "-f",
    "{connection_file}"
   ],
   "display_name": "Python 3 (system-wide)",
   "env": {
   },
   "language": "python",
   "metadata": {
    "cocalc": {
     "description": "Python 3 programming language",
     "priority": 100,
     "url": "https://www.python.org/"
    }
   },
   "name": "python3",
   "resource_dir": "/ext/jupyter/kernels/python3"
  },
  "language_info": {
   "codemirror_mode": {
    "name": "ipython",
    "version": 3
   },
   "file_extension": ".py",
   "mimetype": "text/x-python",
   "name": "python",
   "nbconvert_exporter": "python",
   "pygments_lexer": "ipython3",
   "version": "3.10.12"
  },
  "nbgrader": {
   "__altered": false,
   "__hash": 526601450,
   "_root": {
    "entries": [
     [
      "size",
      5
     ],
     [
      "_root",
      {
       "entries": [
        [
         "size",
         1
        ],
        [
         "_root",
         {
          "entries": [
           [
            "cocalc_minimal_stubs",
            true
           ]
          ],
          "ownerID": {
          }
         }
        ],
        [
         "__hash",
         912286151
        ],
        [
         "__altered",
         false
        ],
        [
         "cocalc_minimal_stubs",
         true
        ]
       ],
       "ownerID": {
       }
      }
     ],
     [
      "__ownerID",
      null
     ],
     [
      "__hash",
      1025205524
     ],
     [
      "__altered",
      false
     ],
     [
      "cocalc_minimal_stubs",
      true
     ]
    ],
    "ownerID": {
    }
   },
   "cocalc_minimal_stubs": true,
   "size": 6
  }
 },
 "nbformat": 4,
 "nbformat_minor": 4
}