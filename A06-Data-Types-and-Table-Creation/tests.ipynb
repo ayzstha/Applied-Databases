{
 "cells": [
  {
   "cell_type": "markdown",
   "metadata": {
    "collapsed": false,
    "deletable": false,
    "editable": false,
    "nbgrader": {
     "grade": false,
     "grade_id": "d17866",
     "locked": true,
     "schema_version": 3,
     "solution": false,
     "task": false
    }
   },
   "source": [
    "# Tests for Activity 6"
   ]
  },
  {
   "cell_type": "markdown",
   "metadata": {
    "collapsed": false,
    "deletable": false,
    "editable": false,
    "nbgrader": {
     "grade": false,
     "grade_id": "2cb37d",
     "locked": true,
     "schema_version": 3,
     "solution": false,
     "task": false
    }
   },
   "source": [
    "## Tests: creating tables"
   ]
  },
  {
   "cell_type": "code",
   "execution_count": 3,
   "metadata": {
    "collapsed": false,
    "deletable": false,
    "editable": false,
    "nbgrader": {
     "grade": true,
     "grade_id": "2b1440",
     "locked": true,
     "points": 1,
     "schema_version": 3,
     "solution": false,
     "task": false
    }
   },
   "outputs": [
   ],
   "source": [
    "# Tests for creating the table Yotes\n",
    "import sqlite3\n",
    "from nose.tools import assert_equal, assert_in\n",
    "\n",
    "# Setting up sqlite3 for unit tests\n",
    "con = sqlite3.connect(':memory:')\n",
    "cur = con.cursor()\n",
    "\n",
    "# Running all the code in act6create.sql\n",
    "with open('act6create.sql') as file:\n",
    "    cur.executescript(file.read())\n",
    "\n",
    "# Checking that the table exists \n",
    "tables = [t[0] for t in cur.execute(\"SELECT tbl_name FROM sqlite_master;\").fetchall()]\n",
    "\n",
    "assert_in('Yotes', tables, 'Checking the table has the correct name')\n",
    "\n",
    "# Checking the column names\n",
    "cur.execute(\"SELECT * FROM Yotes\")\n",
    "columns = {c[0] for c in cur.description}\n",
    "\n",
    "assert_equal(columns, {'LastName', 'FirstName', 'Email', 'YoteId'})\n",
    "\n",
    "con.close()"
   ]
  },
  {
   "cell_type": "code",
   "execution_count": 4,
   "metadata": {
    "collapsed": false,
    "deletable": false,
    "editable": false,
    "nbgrader": {
     "grade": true,
     "grade_id": "b8780a",
     "locked": true,
     "points": 1,
     "schema_version": 3,
     "solution": false,
     "task": false
    }
   },
   "outputs": [
   ],
   "source": [
    "# Tests for creating the table Courses\n",
    "import sqlite3\n",
    "from nose.tools import assert_equal, assert_in\n",
    "\n",
    "# Setting up sqlite3 for unit tests\n",
    "con = sqlite3.connect(':memory:')\n",
    "cur = con.cursor()\n",
    "\n",
    "# Running all the code in act6create.sql\n",
    "with open('act6create.sql') as file:\n",
    "    cur.executescript(file.read())\n",
    "\n",
    "# Checking that the table exists \n",
    "tables = [t[0] for t in cur.execute(\"SELECT tbl_name FROM sqlite_master;\").fetchall()]\n",
    "\n",
    "assert_in('Courses', tables, 'Checking the table has the correct name')\n",
    "\n",
    "# Checking the column names\n",
    "cur.execute(\"SELECT * FROM Courses\")\n",
    "columns = {c[0] for c in cur.description}\n",
    "\n",
    "assert_equal(columns, {'CourseId','CourseNumber','CourseSubject','InstructorId','Section','Term','Year'})\n",
    "\n",
    "con.close()"
   ]
  },
  {
   "cell_type": "code",
   "execution_count": 5,
   "metadata": {
    "collapsed": false,
    "deletable": false,
    "editable": false,
    "nbgrader": {
     "grade": true,
     "grade_id": "8bfa39",
     "locked": true,
     "points": 1,
     "schema_version": 3,
     "solution": false,
     "task": false
    }
   },
   "outputs": [
   ],
   "source": [
    "# Tests for creating the table CourseMeetings\n",
    "import sqlite3\n",
    "from nose.tools import assert_equal, assert_in\n",
    "\n",
    "# Setting up sqlite3 for unit tests\n",
    "con = sqlite3.connect(':memory:')\n",
    "cur = con.cursor()\n",
    "\n",
    "# Running all the code in act6create.sql\n",
    "with open('act6create.sql') as file:\n",
    "    cur.executescript(file.read())\n",
    "\n",
    "# Checking that the table exists \n",
    "tables = [t[0] for t in cur.execute(\"SELECT tbl_name FROM sqlite_master;\").fetchall()]\n",
    "\n",
    "assert_in('CourseMeetings', tables, 'Checking the table has the correct name')\n",
    "\n",
    "# Checking the column names\n",
    "cur.execute(\"SELECT * FROM CourseMeetings\")\n",
    "columns = {c[0] for c in cur.description}\n",
    "\n",
    "assert_equal(columns, {'CourseId', 'CourseMeetingId', 'Days', 'EndTime', 'Location', 'StartTime'})\n",
    "\n",
    "con.close()"
   ]
  },
  {
   "cell_type": "code",
   "execution_count": 6,
   "metadata": {
    "collapsed": false,
    "deletable": false,
    "editable": false,
    "nbgrader": {
     "grade": true,
     "grade_id": "140893",
     "locked": true,
     "points": 1,
     "schema_version": 3,
     "solution": false,
     "task": false
    }
   },
   "outputs": [
   ],
   "source": [
    "# Tests for creating the table CourseStudent\n",
    "import sqlite3\n",
    "from nose.tools import assert_equal, assert_in\n",
    "\n",
    "# Setting up sqlite3 for unit tests\n",
    "con = sqlite3.connect(':memory:')\n",
    "cur = con.cursor()\n",
    "\n",
    "# Running all the code in act6create.sql\n",
    "with open('act6create.sql') as file:\n",
    "    cur.executescript(file.read())\n",
    "\n",
    "# Checking that the table exists \n",
    "tables = [t[0] for t in cur.execute(\"SELECT tbl_name FROM sqlite_master;\").fetchall()]\n",
    "\n",
    "assert_in('CourseStudent', tables, 'Checking the table has the correct name')\n",
    "\n",
    "# Checking the column names\n",
    "cur.execute(\"SELECT * FROM CourseStudent\")\n",
    "columns = {c[0] for c in cur.description}\n",
    "\n",
    "assert_equal(columns, {'CourseId', 'StudentId'})\n",
    "\n",
    "con.close()"
   ]
  },
  {
   "cell_type": "code",
   "execution_count": 7,
   "metadata": {
    "collapsed": false,
    "deletable": false,
    "editable": false,
    "nbgrader": {
     "grade": true,
     "grade_id": "3140ca",
     "locked": true,
     "points": 1,
     "schema_version": 3,
     "solution": false,
     "task": false
    }
   },
   "outputs": [
   ],
   "source": [
    "# Tests for creating the table CourseDetails\n",
    "import sqlite3\n",
    "from nose.tools import assert_equal, assert_in\n",
    "\n",
    "# Setting up sqlite3 for unit tests\n",
    "con = sqlite3.connect(':memory:')\n",
    "cur = con.cursor()\n",
    "\n",
    "# Running all the code in act6create.sql\n",
    "with open('act6create.sql') as file:\n",
    "    cur.executescript(file.read())\n",
    "\n",
    "# Checking that the table exists \n",
    "tables = [t[0] for t in cur.execute(\"SELECT tbl_name FROM sqlite_master;\").fetchall()]\n",
    "\n",
    "assert_in('CourseDetails', tables, 'Checking the table has the correct name')\n",
    "\n",
    "# Checking the column names\n",
    "cur.execute(\"SELECT * FROM CourseDetails\")\n",
    "columns = {c[0] for c in cur.description}\n",
    "\n",
    "assert_equal(columns, {'CourseDescription', 'CourseNumber', 'CourseSubject', 'Credits', 'Title'})\n",
    "\n",
    "con.close()"
   ]
  },
  {
   "cell_type": "markdown",
   "metadata": {
    "collapsed": false,
    "deletable": false,
    "editable": false,
    "nbgrader": {
     "grade": false,
     "grade_id": "419f1a",
     "locked": true,
     "schema_version": 3,
     "solution": false,
     "task": false
    }
   },
   "source": [
    "## Tests: Inserting Data"
   ]
  },
  {
   "cell_type": "code",
   "execution_count": 8,
   "metadata": {
    "collapsed": false,
    "deletable": false,
    "editable": false,
    "nbgrader": {
     "grade": true,
     "grade_id": "b80e75",
     "locked": true,
     "points": 1,
     "schema_version": 3,
     "solution": false,
     "task": false
    }
   },
   "outputs": [
   ],
   "source": [
    "# Testing the sample data inserted into Courses\n",
    "import sqlite3\n",
    "from nose.tools import assert_in\n",
    "\n",
    "# Setting up sqlite3 for unit tests\n",
    "con = sqlite3.connect(':memory:')\n",
    "cur = con.cursor()\n",
    "\n",
    "# Running all the code in act6create.sql\n",
    "with open('act6create.sql') as file:\n",
    "    cur.executescript(file.read())\n",
    "    \n",
    "# Running all the code in act6insert.sql\n",
    "with open('act6insert.sql') as file:\n",
    "    cur.executescript(file.read())\n",
    "\n",
    "# Checking for sample data \n",
    "rows = cur.execute(\"SELECT CourseId, CourseNumber, CourseSubject, InstructorId, Section, Term, Year FROM Courses;\").fetchall()\n",
    "con.close()\n",
    "\n",
    "row = (1234, '270', 'CSC', 256, 1, 'Spring', '2024')\n",
    "assert_in(row, rows, 'Checking one row exists')\n",
    "\n",
    "row = (2468, '271L', 'PHY', 12, 2, 'Fall', '2024')\n",
    "assert_in(row, rows, 'Checking another row exists')\n",
    "\n",
    "# There are hidden tests which will *completely* check your solution."
   ]
  },
  {
   "cell_type": "code",
   "execution_count": 9,
   "metadata": {
    "collapsed": false,
    "deletable": false,
    "editable": false,
    "nbgrader": {
     "grade": true,
     "grade_id": "eadacc",
     "locked": true,
     "points": 1,
     "schema_version": 3,
     "solution": false,
     "task": false
    }
   },
   "outputs": [
   ],
   "source": [
    "# Testing the sample data inserted into CourseMeetings\n",
    "import sqlite3\n",
    "from nose.tools import assert_in\n",
    "\n",
    "# Setting up sqlite3 for unit tests\n",
    "con = sqlite3.connect(':memory:')\n",
    "cur = con.cursor()\n",
    "\n",
    "# Running all the code in act6create.sql\n",
    "with open('act6create.sql') as file:\n",
    "    cur.executescript(file.read())\n",
    "    \n",
    "# Running all the code in act6insert.sql\n",
    "with open('act6insert.sql') as file:\n",
    "    cur.executescript(file.read())\n",
    "\n",
    "# Checking for sample data \n",
    "rows = cur.execute(\"SELECT CourseMeetingId, CourseId, Days, StartTime, EndTime, Location FROM CourseMeetings;\").fetchall()\n",
    "con.close()\n",
    "\n",
    "row = (12, 1012, 'MWF', '13:00', '13:50', 'Boone 132')\n",
    "assert_in(row, rows, 'Checking one row exists')\n",
    "\n",
    "# There are hidden tests which will *completely* check your solution."
   ]
  },
  {
   "cell_type": "code",
   "execution_count": 10,
   "metadata": {
    "collapsed": false,
    "deletable": false,
    "editable": false,
    "nbgrader": {
     "grade": true,
     "grade_id": "ea09db",
     "locked": true,
     "points": 1,
     "schema_version": 3,
     "solution": false,
     "task": false
    }
   },
   "outputs": [
   ],
   "source": [
    "# Testing the sample data inserted into CourseStudent\n",
    "import sqlite3\n",
    "from nose.tools import assert_in\n",
    "\n",
    "# Setting up sqlite3 for unit tests\n",
    "con = sqlite3.connect(':memory:')\n",
    "cur = con.cursor()\n",
    "\n",
    "# Running all the code in act6create.sql\n",
    "with open('act6create.sql') as file:\n",
    "    cur.executescript(file.read())\n",
    "    \n",
    "# Running all the code in act6insert.sql\n",
    "with open('act6insert.sql') as file:\n",
    "    cur.executescript(file.read())\n",
    "\n",
    "# Checking for sample data \n",
    "rows = cur.execute(\"SELECT StudentId, CourseId FROM CourseStudent;\").fetchall()\n",
    "con.close()\n",
    "\n",
    "assert_in((201, 1111), rows, 'Checking one row exists')\n",
    "\n",
    "# There are hidden tests which will *completely* check your solution."
   ]
  },
  {
   "cell_type": "code",
   "execution_count": 11,
   "metadata": {
    "collapsed": false,
    "deletable": false,
    "editable": false,
    "nbgrader": {
     "grade": true,
     "grade_id": "b895aa",
     "locked": true,
     "points": 1,
     "schema_version": 3,
     "solution": false,
     "task": false
    }
   },
   "outputs": [
   ],
   "source": [
    "# Tests for part 6\n",
    "import sqlite3\n",
    "from nose.tools import assert_in\n",
    "\n",
    "# Setting up sqlite3 for unit tests\n",
    "con = sqlite3.connect(':memory:')\n",
    "cur = con.cursor()\n",
    "\n",
    "# Running all the code in act6create.sql\n",
    "with open('act6create.sql') as file:\n",
    "    cur.executescript(file.read())\n",
    "    \n",
    "# Running all the code in act6insert.sql\n",
    "with open('act6insert.sql') as file:\n",
    "    cur.executescript(file.read())\n",
    "\n",
    "# Checking for sample data \n",
    "rows = cur.execute(\"\"\"\n",
    "                   SELECT y.FirstName, y.LastName, c.Year\n",
    "                   FROM Yotes AS y JOIN Courses AS c ON c.InstructorId = y.YoteId\n",
    "                   WHERE c.CourseSubject = 'CSC'\n",
    "                        AND c.CourseNumber = '270'\n",
    "                        AND c.Section = 1\n",
    "                        AND c.Term = 'Spring'\n",
    "                        \n",
    "                   \"\"\").fetchall()\n",
    "con.close()\n",
    "\n",
    "assert_in(('Robin', 'Cruz', '2021'), rows, 'Checking for Robin Cruz')\n",
    "assert_in(('Jason', 'McClelland', '2020'), rows, 'Checking for Jason McClelland')"
   ]
  },
  {
   "cell_type": "markdown",
   "metadata": {
    "collapsed": false,
    "deletable": false,
    "editable": false,
    "nbgrader": {
     "grade": false,
     "grade_id": "0aa2ba",
     "locked": true,
     "schema_version": 3,
     "solution": false,
     "task": false
    }
   },
   "source": [
    "## Tests: Querying the database"
   ]
  },
  {
   "cell_type": "code",
   "execution_count": 12,
   "metadata": {
    "collapsed": false,
    "deletable": false,
    "editable": false,
    "nbgrader": {
     "grade": true,
     "grade_id": "589937",
     "locked": true,
     "points": 2,
     "schema_version": 3,
     "solution": false,
     "task": false
    }
   },
   "outputs": [
   ],
   "source": [
    "# Tests for part 7\n",
    "import sqlite3\n",
    "from nose.tools import assert_equal\n",
    "from csc270tools import get_script\n",
    "\n",
    "# Setting up sqlite3 for unit tests\n",
    "con = sqlite3.connect(':memory:')\n",
    "cur = con.cursor()\n",
    "\n",
    "# Running all the code in act6create.sql\n",
    "with open('act6create.sql') as file:\n",
    "    cur.executescript(file.read())\n",
    "    \n",
    "# Running all the code in act6insert.sql\n",
    "with open('act6insert.sql') as file:\n",
    "    cur.executescript(file.read())\n",
    "    \n",
    "# executing the SQL query in act6query.sql for this part\n",
    "rows = cur.execute(get_script('act6query.sql', 0)).fetchall()\n",
    "\n",
    "con.close()\n",
    "\n",
    "assert_equal(rows, [('Jonny', 'Comes'), ('Robin', 'Cruz'), ('Jason', 'McClelland')], 'Checking the rows')"
   ]
  },
  {
   "cell_type": "markdown",
   "metadata": {
    "collapsed": false,
    "deletable": false,
    "editable": false,
    "nbgrader": {
     "grade": false,
     "grade_id": "7f918c",
     "locked": true,
     "schema_version": 3,
     "solution": false,
     "task": false
    }
   },
   "source": [
    "### Grading the last part\n",
    "\n",
    "The following cell runs your solution for part 8. If your solution is correct, the cell should run without an error **and** your course schedule will be printed at the bottom of this notebook. I will manually check your course schedule by looking at the printout at the bottom of this notebook. "
   ]
  },
  {
   "cell_type": "code",
   "execution_count": 13,
   "metadata": {
    "collapsed": false,
    "deletable": false,
    "editable": false,
    "nbgrader": {
     "grade": true,
     "grade_id": "a7c7ce",
     "locked": true,
     "points": 1,
     "schema_version": 3,
     "solution": false,
     "task": false
    }
   },
   "outputs": [
    {
     "name": "stdout",
     "output_type": "stream",
     "text": [
      "\u001b[1mcourse        course_title                       instructor          days  start_time  end_time    room\u001b[0m\n",
      "CSC-270-01    Applied Databases                  Comes               TH    09:25       10:40       CML 105\n",
      "CSC-340-01    Design and Analysis of Algorithms  Danielson           TT    8:00        09:15       CML 106\n",
      "MAT-361-01    Linear Algebra                     Rosoff              MWF   11:00       11:50       Boone 122\n",
      "ARH-205-01    Renaissance to Modern              Jones               MWF   15:00       17:50       Langroise 201\n",
      "ART-375-02    Digital Video                      Seyben              MWF   14:00       14:50       Langroise 202\n"
     ]
    }
   ],
   "source": [
    "# Tests for part 8\n",
    "import sqlite3\n",
    "from nose.tools import assert_equal\n",
    "from csc270tools import get_script\n",
    "\n",
    "# Setting up sqlite3 for unit tests\n",
    "con = sqlite3.connect(':memory:')\n",
    "cur = con.cursor()\n",
    "\n",
    "# Running all the code in act6create.sql\n",
    "with open('act6create.sql') as file:\n",
    "    cur.executescript(file.read())\n",
    "    \n",
    "# Running all the code in act6insert.sql\n",
    "with open('act6insert.sql') as file:\n",
    "    cur.executescript(file.read())\n",
    "    \n",
    "# executing the SQL query in act6query.sql for this part\n",
    "rows = cur.execute(get_script('act6query.sql', 1)).fetchall()\n",
    "header = [c[0] for c in cur.description]\n",
    "con.close()\n",
    "\n",
    "assert_equal(header, ['course', 'course_title', 'instructor', 'days', 'start_time', 'end_time', 'room'], 'Checking the column names')\n",
    "\n",
    "# Print the output of your query for manual grading\n",
    "a,b,c,d,e,f,g = header\n",
    "print(f\"\\033[1m{a:14}{b:35}{c:20}{d:6}{e:12}{f:12}{g}\\033[0m\")\n",
    "for a,b,c,d,e,f,g in rows:\n",
    "    print(f\"{a:14}{b:35}{c:20}{d:6}{e:12}{f:12}{g}\")"
   ]
  }
 ],
 "metadata": {
  "kernelspec": {
   "argv": [
    "/usr/bin/python3",
    "-m",
    "ipykernel",
    "--HistoryManager.enabled=False",
    "--matplotlib=inline",
    "-c",
    "%config InlineBackend.figure_formats = set(['retina'])\nimport matplotlib; matplotlib.rcParams['figure.figsize'] = (12, 7)",
    "-f",
    "{connection_file}"
   ],
   "display_name": "Python 3 (system-wide)",
   "env": {
   },
   "language": "python",
   "metadata": {
    "cocalc": {
     "description": "Python 3 programming language",
     "priority": 100,
     "url": "https://www.python.org/"
    }
   },
   "name": "python3",
   "resource_dir": "/ext/jupyter/kernels/python3"
  },
  "nbgrader": {
   "__altered": false,
   "__hash": 840017758,
   "_root": {
    "entries": [
     [
      "size",
      6
     ],
     [
      "_root",
      {
       "entries": [
        [
         "size",
         1
        ],
        [
         "_root",
         {
          "entries": [
           [
            "cocalc_minimal_stubs",
            true
           ]
          ],
          "ownerID": {
          }
         }
        ],
        [
         "__ownerID",
         null
        ],
        [
         "__hash",
         912286151
        ],
        [
         "__altered",
         false
        ],
        [
         "cocalc_minimal_stubs",
         true
        ]
       ],
       "ownerID": {
       }
      }
     ],
     [
      "__hash",
      853781301
     ],
     [
      "__altered",
      false
     ],
     [
      "cocalc_minimal_stubs",
      true
     ]
    ],
    "ownerID": {
    }
   },
   "cocalc_minimal_stubs": true,
   "size": 5
  }
 },
 "nbformat": 4,
 "nbformat_minor": 4
}