{
 "cells": [
  {
   "cell_type": "code",
   "execution_count": 3,
   "metadata": {
    "cocalc": {
     "outputs": {
      "1": {
       "name": "input",
       "opts": {
        "password": false,
        "prompt": "Enter customer ID: "
       },
       "output_type": "stream"
      }
     }
    },
    "collapsed": false
   },
   "outputs": [
    {
     "name": "stdout",
     "output_type": "stream",
     "text": [
      "1. Chai - $18\n",
      "2. Chang - $19\n",
      "3. Aniseed Syrup - $10\n",
      "4. Chef Anton's Cajun Seasoning - $22\n",
      "5. Chef Anton's Gumbo Mix - $21.35\n",
      "6. Grandma's Boysenberry Spread - $25\n",
      "7. Uncle Bob's Organic Dried Pears - $30\n",
      "8. Northwoods Cranberry Sauce - $40\n",
      "9. Mishi Kobe Niku - $97\n",
      "10. Ikura - $31\n",
      "11. Queso Cabrales - $21\n",
      "12. Queso Manchego La Pastora - $38\n",
      "13. Konbu - $6\n",
      "14. Tofu - $23.25\n",
      "15. Genen Shouyu - $15.5\n",
      "16. Pavlova - $17.45\n",
      "17. Alice Mutton - $39\n",
      "18. Carnarvon Tigers - $62.5\n",
      "19. Teatime Chocolate Biscuits - $9.2\n",
      "20. Sir Rodney's Marmalade - $81\n",
      "21. Sir Rodney's Scones - $10\n",
      "22. Gustaf's Knäckebröd - $21\n",
      "23. Tunnbröd - $9\n",
      "24. Guaraná Fantástica - $4.5\n",
      "25. NuNuCa Nuß-Nougat-Creme - $14\n",
      "26. Gumbär Gummibärchen - $31.23\n",
      "27. Schoggi Schokolade - $43.9\n",
      "28. Rössle Sauerkraut - $45.6\n",
      "29. Thüringer Rostbratwurst - $123.79\n",
      "30. Nord-Ost Matjeshering - $25.89\n",
      "31. Gorgonzola Telino - $12.5\n",
      "32. Mascarpone Fabioli - $32\n",
      "33. Geitost - $2.5\n",
      "34. Sasquatch Ale - $14\n",
      "35. Steeleye Stout - $18\n",
      "36. Inlagd Sill - $19\n",
      "37. Gravad lax - $26\n",
      "38. Côte de Blaye - $263.5\n",
      "39. Chartreuse verte - $18\n",
      "40. Boston Crab Meat - $18.4\n",
      "41. Jack's New England Clam Chowder - $9.65\n",
      "42. Singaporean Hokkien Fried Mee - $14\n",
      "43. Ipoh Coffee - $46\n",
      "44. Gula Malacca - $19.45\n",
      "45. Rogede sild - $9.5\n",
      "46. Spegesild - $12\n",
      "47. Zaanse koeken - $9.5\n",
      "48. Chocolade - $12.75\n",
      "49. Maxilaku - $20\n",
      "50. Valkoinen suklaa - $16.25\n",
      "51. Manjimup Dried Apples - $53\n",
      "52. Filo Mix - $7\n",
      "53. Perth Pasties - $32.8\n",
      "54. Tourtière - $7.45\n",
      "55. Pâté chinois - $24\n",
      "56. Gnocchi di nonna Alice - $38\n",
      "57. Ravioli Angelo - $19.5\n",
      "58. Escargots de Bourgogne - $13.25\n",
      "59. Raclette Courdavault - $55\n",
      "60. Camembert Pierrot - $34\n",
      "61. Sirop d'érable - $28.5\n",
      "62. Tarte au sucre - $49.3\n",
      "63. Vegie-spread - $43.9\n",
      "64. Wimmers gute Semmelknödel - $33.25\n",
      "65. Louisiana Fiery Hot Pepper Sauce - $21.05\n",
      "66. Louisiana Hot Spiced Okra - $17\n",
      "67. Laughing Lumberjack Lager - $14\n",
      "68. Scottish Longbreads - $12.5\n",
      "69. Gudbrandsdalsost - $36\n",
      "70. Outback Lager - $15\n",
      "71. Flotemysost - $21.5\n",
      "72. Mozzarella di Giovanni - $34.8\n",
      "73. Röd Kaviar - $15\n",
      "74. Longlife Tofu - $10\n",
      "75. Rhönbräu Klosterbier - $7.75\n",
      "76. Lakkalikööri - $18\n",
      "77. Original Frankfurter grüne Soße - $13\n"
     ]
    },
    {
     "name": "stdout",
     "output_type": "stream",
     "text": "Enter customer ID:  "
    }
   ],
   "source": [
    "# Importing the sqlite3 Module\n",
    "import sqlite3\n",
    "\n",
    "# Connecting to the Northwind database\n",
    "conn = sqlite3.connect('Northwind.db')\n",
    "cur = conn.cursor()  # Create a cursor object to execute SQL commands\n",
    "\n",
    "# Function for browsing through the Products and their prices\n",
    "def browse_products():\n",
    "    cur.execute(\"SELECT ProductID, ProductName, UnitPrice FROM Products\") # Executing SQL commands using the cursor\n",
    "    products = cur.fetchall()\n",
    "    for product in products:\n",
    "        print(f\"{product[0]}. {product[1]} - ${product[2]}\")\n",
    "\n",
    "# Function for collecting purchase details from the user\n",
    "def get_purchase_details():\n",
    "    customer_id = input(\"Enter customer ID: \")\n",
    "    product_id = input(\"Enter product ID to purchase: \")\n",
    "    quantity = input(\"Enter quantity: \")\n",
    "    return customer_id, product_id, quantity\n",
    "\n",
    "# Function for collecting shipment details from the user\n",
    "def get_shipment_details():\n",
    "    ship_address = input(\"Enter Shipping Address Line 1: \")\n",
    "    ship_city = input(\"Enter City: \")\n",
    "    ship_region = input(\"Enter Region: \")\n",
    "    ship_postal_code = input(\"Enter Postal Code: \")\n",
    "    ship_country = input(\"Enter Country: \")\n",
    "    return ship_address, ship_city, ship_region, ship_postal_code, ship_country\n",
    "\n",
    "\n",
    "def record_purchase(customer_id, product_id, quantity, ship_address, ship_city, ship_region, ship_postal_code, ship_country):\n",
    "    '''Function for recording what the customer purchased in the Order Details Table and the Order Table'''\n",
    "    # Insert into Orders table\n",
    "    cur.execute(\"\"\"\n",
    "        INSERT INTO Orders (CustomerID, OrderDate, ShipAddress, ShipCity, ShipRegion, ShipPostalCode, ShipCountry) \n",
    "        VALUES (?, date('now'), ?, ?, ?, ?, ?)\n",
    "    \"\"\", (customer_id, ship_address, ship_city, ship_region, ship_postal_code, ship_country))\n",
    "    \n",
    "    order_id = cur.lastrowid     # Getting the ID of the newly inserted order\n",
    "    \n",
    "    # Inserting into Order Details table\n",
    "    cur.execute(\"INSERT INTO 'Order Details' (OrderID, ProductID, Quantity) VALUES (?, ?, ?)\", (order_id, product_id, quantity))\n",
    "    conn.commit()  # Committing changes to the database\n",
    "    cur.execute(\"\"\"\n",
    "        SELECT od.OrderID, p.ProductName, od.Quantity, o.ShipAddress, o.ShipCity, o.ShipRegion, o.ShipPostalCode, o.ShipCountry\n",
    "        FROM 'Order Details' AS od\n",
    "        JOIN Products p ON od.ProductID = p.ProductID\n",
    "        JOIN Orders o ON od.OrderID = o.OrderID\n",
    "        WHERE od.OrderID = ?\n",
    "    \"\"\", (order_id,))\n",
    "    \n",
    "    last_entry = cur.fetchone()      # Fetching the first row returned by the query\n",
    "    if last_entry:\n",
    "        print(f\"Customer '{customer_id}' has succesfully purchased {last_entry[2]} unit(s) of {last_entry[1]}!\")\n",
    "        print(f\"The order will be shipped to: {last_entry[3]}, {last_entry[4]}, {last_entry[5]}, {last_entry[6]}, {last_entry[7]}\")\n",
    "        print(\"Thank you for your order!\")\n",
    "        \n",
    "    else:\n",
    "        print(\"Purchase unsuccessful. Please try again.\")\n",
    "\n",
    "# Main function to execute the workflow\n",
    "def main():\n",
    "    browse_products()\n",
    "    customer_id, product_id, quantity = get_purchase_details()\n",
    "    ship_address, ship_city, ship_region, ship_postal_code, ship_country = get_shipment_details()\n",
    "    record_purchase(customer_id, product_id, quantity, ship_address, ship_city, ship_region, ship_postal_code, ship_country)\n",
    "    conn.close()\n",
    "\n",
    "# Run the main function\n",
    "if __name__ == \"__main__\": #To ensure that the main function runs only when the script is executed directly\n",
    "    main()\n"
   ]
  },
  {
   "cell_type": "code",
   "execution_count": 0,
   "metadata": {
    "collapsed": false
   },
   "outputs": [
   ],
   "source": [
   ]
  }
 ],
 "metadata": {
  "kernelspec": {
   "argv": [
    "/usr/bin/python3",
    "-m",
    "ipykernel",
    "--HistoryManager.enabled=False",
    "--matplotlib=inline",
    "-c",
    "%config InlineBackend.figure_formats = set(['retina'])\nimport matplotlib; matplotlib.rcParams['figure.figsize'] = (12, 7)",
    "-f",
    "{connection_file}"
   ],
   "display_name": "Python 3 (system-wide)",
   "env": {
   },
   "language": "python",
   "metadata": {
    "cocalc": {
     "description": "Python 3 programming language",
     "priority": 100,
     "url": "https://www.python.org/"
    }
   },
   "name": "python3",
   "resource_dir": "/ext/jupyter/kernels/python3"
  },
  "language_info": {
   "codemirror_mode": {
    "name": "ipython",
    "version": 3
   },
   "file_extension": ".py",
   "mimetype": "text/x-python",
   "name": "python",
   "nbconvert_exporter": "python",
   "pygments_lexer": "ipython3",
   "version": "3.10.12"
  }
 },
 "nbformat": 4,
 "nbformat_minor": 4
}