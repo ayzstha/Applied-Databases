{
 "cells": [
  {
   "cell_type": "markdown",
   "metadata": {
    "collapsed": false,
    "deletable": false,
    "editable": false,
    "nbgrader": {
     "grade": false,
     "grade_id": "383ea2",
     "locked": true,
     "schema_version": 3,
     "solution": false,
     "task": false
    }
   },
   "source": [
    "# Tests for Activity 3"
   ]
  },
  {
   "cell_type": "markdown",
   "metadata": {
    "collapsed": false,
    "deletable": false,
    "editable": false,
    "nbgrader": {
     "grade": false,
     "grade_id": "d5c02d",
     "locked": true,
     "schema_version": 3,
     "solution": false,
     "task": false
    }
   },
   "source": [
    "## Tests: Northwind"
   ]
  },
  {
   "cell_type": "code",
   "execution_count": 3,
   "metadata": {
    "collapsed": false,
    "deletable": false,
    "editable": false,
    "nbgrader": {
     "grade": true,
     "grade_id": "ce5c0f",
     "locked": true,
     "points": 2,
     "schema_version": 3,
     "solution": false,
     "task": false
    }
   },
   "outputs": [
   ],
   "source": [
    "# Test for part 1\n",
    "from nose.tools import assert_equal\n",
    "from csc270tools import get_table\n",
    "\n",
    "# Running the code in act3Northwind.sql to get the table for this part\n",
    "table = get_table('act3Northwind.sql', 'Northwind.db', 0)\n",
    "\n",
    "assert_equal(table[0], (11008, '2018-04-08', '2018-05-06'), 'Checking the first row')\n"
   ]
  },
  {
   "cell_type": "code",
   "execution_count": 4,
   "metadata": {
    "collapsed": false,
    "deletable": false,
    "editable": false,
    "nbgrader": {
     "grade": true,
     "grade_id": "bacf02",
     "locked": true,
     "points": 2,
     "schema_version": 3,
     "solution": false,
     "task": false
    }
   },
   "outputs": [
   ],
   "source": [
    "# Test for part 2\n",
    "from nose.tools import assert_equal\n",
    "from csc270tools import get_table\n",
    "\n",
    "# Running the code in act3Northwind.sql to get the table for this part\n",
    "table = get_table('act3Northwind.sql', 'Northwind.db', 1)\n",
    "\n",
    "assert_equal(table[0], ('BERGS', '2016-08-16', 'Luleå'), 'Checking the first row')\n",
    "assert_equal(table[-1], ('SIMOB', None, 'Kobenhavn'), 'Checking the last row')\n"
   ]
  },
  {
   "cell_type": "code",
   "execution_count": 5,
   "metadata": {
    "collapsed": false,
    "deletable": false,
    "editable": false,
    "nbgrader": {
     "grade": true,
     "grade_id": "aae28a",
     "locked": true,
     "points": 2,
     "schema_version": 3,
     "solution": false,
     "task": false
    }
   },
   "outputs": [
   ],
   "source": [
    "# Test for part 3\n",
    "from nose.tools import assert_equal\n",
    "from csc270tools import get_table\n",
    "\n",
    "# Running the code in act3Northwind.sql to get the table for this part\n",
    "table = get_table('act3Northwind.sql', 'Northwind.db', 2)\n",
    "\n",
    "assert_equal(table[0], ('MORGK', '0342-023176', None, 'address'), 'Checking the first row')\n",
    "assert_equal(table[-1], ('VALON', None, None, 'both'), 'Checking the last row')\n"
   ]
  },
  {
   "cell_type": "markdown",
   "metadata": {
    "collapsed": false,
    "deletable": false,
    "editable": false,
    "nbgrader": {
     "grade": false,
     "grade_id": "7d6eeb",
     "locked": true,
     "schema_version": 3,
     "solution": false,
     "task": false
    }
   },
   "source": [
    "## Tests: Netflix"
   ]
  },
  {
   "cell_type": "code",
   "execution_count": 6,
   "metadata": {
    "collapsed": false,
    "deletable": false,
    "editable": false,
    "nbgrader": {
     "grade": true,
     "grade_id": "602cd6",
     "locked": true,
     "points": 1,
     "schema_version": 3,
     "solution": false,
     "task": false
    }
   },
   "outputs": [
   ],
   "source": [
    "# Test for part 1\n",
    "from nose.tools import assert_equal\n",
    "from csc270tools import get_table\n",
    "\n",
    "# Running the code in act3Netflix.sql to get the table for this part\n",
    "table = get_table('act3Netflix.sql', 'Netflix.db', 0)\n",
    "\n",
    "assert_equal(table[0], ('The Beguiled', 'Sofia Coppola'), 'Checking the first row')\n",
    "assert_equal(len(table), 5, 'Checking the number of rows')\n"
   ]
  },
  {
   "cell_type": "code",
   "execution_count": 7,
   "metadata": {
    "collapsed": false,
    "deletable": false,
    "editable": false,
    "nbgrader": {
     "grade": true,
     "grade_id": "df5f99",
     "locked": true,
     "points": 1,
     "schema_version": 3,
     "solution": false,
     "task": false
    }
   },
   "outputs": [
   ],
   "source": [
    "# Test for part 2\n",
    "from nose.tools import assert_equal\n",
    "from csc270tools import get_table\n",
    "\n",
    "# Running the code in act3Netflix.sql to get the table for this part\n",
    "table = get_table('act3Netflix.sql', 'Netflix.db', 1)\n",
    "\n",
    "assert_equal(table[0], ('Bygones Be Bygones', '2017'), 'Checking the first row')\n",
    "assert_equal(len(table), 13, 'Checking the number of rows')\n"
   ]
  },
  {
   "cell_type": "code",
   "execution_count": 8,
   "metadata": {
    "collapsed": false,
    "deletable": false,
    "editable": false,
    "nbgrader": {
     "grade": true,
     "grade_id": "560aa7",
     "locked": true,
     "points": 1,
     "schema_version": 3,
     "solution": false,
     "task": false
    }
   },
   "outputs": [
   ],
   "source": [
    "# Test for part 3\n",
    "from nose.tools import assert_equal\n",
    "from csc270tools import get_table\n",
    "\n",
    "# Running the code in act3Netflix.sql to get the table for this part\n",
    "table = get_table('act3Netflix.sql', 'Netflix.db', 2)\n",
    "\n",
    "assert_equal(table[0], ('The Walking Dead', '10 Seasons'), 'Checking the first row')\n",
    "assert_equal(len(table), 17, 'Checking the number of rows')\n"
   ]
  },
  {
   "cell_type": "code",
   "execution_count": 9,
   "metadata": {
    "collapsed": false,
    "deletable": false,
    "editable": false,
    "nbgrader": {
     "grade": true,
     "grade_id": "be256c",
     "locked": true,
     "points": 1,
     "schema_version": 3,
     "solution": false,
     "task": false
    }
   },
   "outputs": [
   ],
   "source": [
    "# Test for part 4\n",
    "from nose.tools import assert_equal\n",
    "from csc270tools import get_table\n",
    "\n",
    "# Running the code in act3Netflix.sql to get the table for this part\n",
    "table = get_table('act3Netflix.sql', 'Netflix.db', 3)\n",
    "\n",
    "assert_equal(table[0], ('Bob Ross: Happy Accidents, Betrayal & Greed',), 'Checking the first row')\n",
    "assert_equal(len(table), 17, 'Checking the number of rows')\n"
   ]
  },
  {
   "cell_type": "code",
   "execution_count": 10,
   "metadata": {
    "collapsed": false,
    "deletable": false,
    "editable": false,
    "nbgrader": {
     "grade": true,
     "grade_id": "8a994a",
     "locked": true,
     "points": 2,
     "schema_version": 3,
     "solution": false,
     "task": false
    }
   },
   "outputs": [
   ],
   "source": [
    "# Test for part 5\n",
    "from nose.tools import assert_equal\n",
    "from csc270tools import get_table\n",
    "\n",
    "# Running the code in act3Netflix.sql to get the table for this part\n",
    "table = get_table('act3Netflix.sql', 'Netflix.db', 4)\n",
    "\n",
    "assert_equal(table[0], ('Between Worlds', 'Thrillers'), 'Checking the first row')\n",
    "assert_equal(len(table), 12, 'Checking the number of rows')\n"
   ]
  },
  {
   "cell_type": "code",
   "execution_count": 11,
   "metadata": {
    "collapsed": false,
    "deletable": false,
    "editable": false,
    "nbgrader": {
     "grade": true,
     "grade_id": "a46727",
     "locked": true,
     "points": 2,
     "schema_version": 3,
     "solution": false,
     "task": false
    }
   },
   "outputs": [
   ],
   "source": [
    "# Test for part 6\n",
    "from nose.tools import assert_equal\n",
    "from csc270tools import get_table\n",
    "\n",
    "# Running the code in act3Netflix.sql to get the table for this part\n",
    "table = get_table('act3Netflix.sql', 'Netflix.db', 5)\n",
    "\n",
    "assert_equal(table[0], ('Scream 2', '1997', 'Horror Movies'), 'Checking the first row')\n",
    "assert_equal(len(table), 9, 'Checking the number of rows')\n"
   ]
  },
  {
   "cell_type": "code",
   "execution_count": 12,
   "metadata": {
    "collapsed": false,
    "deletable": false,
    "editable": false,
    "nbgrader": {
     "grade": true,
     "grade_id": "315dc1",
     "locked": true,
     "points": 2,
     "schema_version": 3,
     "solution": false,
     "task": false
    }
   },
   "outputs": [
   ],
   "source": [
    "# Test for part 7\n",
    "from nose.tools import assert_equal\n",
    "from csc270tools import get_table\n",
    "\n",
    "# Running the code in act3Netflix.sql to get the table for this part\n",
    "table = get_table('act3Netflix.sql', 'Netflix.db', 6)\n",
    "\n",
    "assert_equal(table[0], ('Sankofa', 0), 'Checking the first row')\n",
    "assert_equal(table[5], (\"Beethoven's 2nd\", 1), 'Checking another row')\n",
    "assert_equal(len(table), 28, 'Checking the number of rows')\n"
   ]
  },
  {
   "cell_type": "code",
   "execution_count": 13,
   "metadata": {
    "collapsed": false,
    "deletable": false,
    "editable": false,
    "nbgrader": {
     "grade": true,
     "grade_id": "d290ac",
     "locked": true,
     "points": 2,
     "schema_version": 3,
     "solution": false,
     "task": false
    }
   },
   "outputs": [
   ],
   "source": [
    "# Test for part 8\n",
    "from nose.tools import assert_equal\n",
    "from csc270tools import get_table\n",
    "\n",
    "# Running the code in act3Netflix.sql to get the table for this part\n",
    "table = get_table('act3Netflix.sql', 'Netflix.db', 7)\n",
    "\n",
    "assert_equal(table[0], ('Hard Lessons (1986)',), 'Checking the first row')\n",
    "assert_equal(len(table), 11, 'Checking the number of rows')\n"
   ]
  }
 ],
 "metadata": {
  "kernelspec": {
   "argv": [
    "/usr/bin/python3",
    "-m",
    "ipykernel",
    "--HistoryManager.enabled=False",
    "--matplotlib=inline",
    "-c",
    "%config InlineBackend.figure_formats = set(['retina'])\nimport matplotlib; matplotlib.rcParams['figure.figsize'] = (12, 7)",
    "-f",
    "{connection_file}"
   ],
   "display_name": "Python 3 (system-wide)",
   "env": {
   },
   "language": "python",
   "metadata": {
    "cocalc": {
     "description": "Python 3 programming language",
     "priority": 100,
     "url": "https://www.python.org/"
    }
   },
   "name": "python3",
   "resource_dir": "/ext/jupyter/kernels/python3"
  },
  "language_info": {
   "codemirror_mode": {
    "name": "ipython",
    "version": 3
   },
   "file_extension": ".py",
   "mimetype": "text/x-python",
   "name": "python",
   "nbconvert_exporter": "python",
   "pygments_lexer": "ipython3",
   "version": "3.10.12"
  },
  "nbgrader": {
   "__altered": false,
   "__hash": 761992343,
   "_root": {
    "entries": [
     [
      "size",
      6
     ],
     [
      "_root",
      {
       "entries": [
        [
         "size",
         5
        ],
        [
         "_root",
         {
          "entries": [
           [
            "size",
            6
           ],
           [
            "_root",
            {
             "entries": [
              [
               "size",
               1
              ],
              [
               "_root",
               {
                "entries": [
                 [
                  "cocalc_minimal_stubs",
                  true
                 ]
                ],
                "ownerID": {
                }
               }
              ],
              [
               "__ownerID",
               null
              ],
              [
               "__hash",
               912286151
              ],
              [
               "__altered",
               false
              ],
              [
               "cocalc_minimal_stubs",
               true
              ]
             ],
             "ownerID": {
             }
            }
           ],
           [
            "__hash",
            853781301
           ],
           [
            "__altered",
            false
           ],
           [
            "cocalc_minimal_stubs",
            true
           ]
          ],
          "ownerID": {
          }
         }
        ],
        [
         "__ownerID",
         null
        ],
        [
         "__hash",
         840017758
        ],
        [
         "__altered",
         false
        ],
        [
         "cocalc_minimal_stubs",
         true
        ]
       ],
       "ownerID": {
       }
      }
     ],
     [
      "__ownerID",
      null
     ],
     [
      "__hash",
      214758527
     ],
     [
      "__altered",
      false
     ],
     [
      "cocalc_minimal_stubs",
      true
     ]
    ],
    "ownerID": {
    }
   },
   "cocalc_minimal_stubs": true,
   "size": 6
  }
 },
 "nbformat": 4,
 "nbformat_minor": 4
}