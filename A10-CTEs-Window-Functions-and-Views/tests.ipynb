{
 "cells": [
  {
   "cell_type": "markdown",
   "metadata": {
    "collapsed": false,
    "deletable": false,
    "editable": false,
    "nbgrader": {
     "grade": false,
     "grade_id": "2818b1",
     "locked": true,
     "schema_version": 3,
     "solution": false,
     "task": false
    }
   },
   "source": [
    "# Tests for Activity 10"
   ]
  },
  {
   "cell_type": "markdown",
   "metadata": {
    "collapsed": false,
    "deletable": false,
    "editable": false,
    "nbgrader": {
     "grade": false,
     "grade_id": "7d6f7e",
     "locked": true,
     "schema_version": 3,
     "solution": false,
     "task": false
    }
   },
   "source": [
    "## Tests: Chinook"
   ]
  },
  {
   "cell_type": "code",
   "execution_count": 3,
   "metadata": {
    "collapsed": false,
    "deletable": false,
    "editable": false,
    "nbgrader": {
     "grade": true,
     "grade_id": "1d43c2",
     "locked": true,
     "points": 4,
     "schema_version": 3,
     "solution": false,
     "task": false
    }
   },
   "outputs": [
   ],
   "source": [
    "# Test for part 1\n",
    "from nose.tools import assert_equal, assert_in\n",
    "from csc270tools import get_table, get_script\n",
    "\n",
    "# Running the code in act10Chinook.sql to get the table and your code for this part\n",
    "table, header  = get_table( 'act10Chinook.sql', 'Chinook.db', 0, header=True)\n",
    "script = get_script('act10Chinook.sql', 0).upper()\n",
    "\n",
    "# Checking that a Window Function is used\n",
    "assert_in('PARTITION BY',script, 'checking for a window function')\n",
    "\n",
    "# Partially checking your solution\n",
    "assert_equal(header, ['Album Title', 'Track Name', 'Track Length', 'Album Average Track Length'], 'Checking the column names')\n",
    "assert_equal(('In Your Honor [Disc 1]', 'Hell', 117080, 240929.5), table[0], 'Checking the first row')\n",
    "assert_equal(('The Colour And The Shape', 'New Way Home', 342230, 216560.76923076922), table[-1], 'Checking the last row')\n",
    "assert_equal(len(table), 44, 'Checking the number of rows')\n",
    "\n",
    "# There are hidden tests that will completely check your solution"
   ]
  },
  {
   "cell_type": "code",
   "execution_count": 4,
   "metadata": {
    "collapsed": false,
    "deletable": false,
    "editable": false,
    "nbgrader": {
     "grade": true,
     "grade_id": "4131eb",
     "locked": true,
     "points": 4,
     "schema_version": 3,
     "solution": false,
     "task": false
    }
   },
   "outputs": [
   ],
   "source": [
    "# Test for part 2\n",
    "from nose.tools import assert_equal, assert_in, assert_not_in\n",
    "from csc270tools import get_table, get_script\n",
    "\n",
    "# Running the code in act10Chinook.sql to get the table and your code for this part\n",
    "table, header  = get_table( 'act10Chinook.sql', 'Chinook.db', 1, header=True)\n",
    "script = get_script('act10Chinook.sql', 1).upper()\n",
    "\n",
    "# Checking that a CTE is used instead of a Window Function\n",
    "assert_not_in('PARTITION BY', script, 'checking for a window function')\n",
    "assert_in('WITH', script, 'checking for a CTE')\n",
    "\n",
    "# Partially checking your solution\n",
    "assert_equal(header, ['Album Title', 'Track Name', 'Track Length', 'Album Average Track Length'], 'Checking the column names')\n",
    "assert_equal(('In Your Honor [Disc 1]', 'Hell', 117080, 240929.5), table[0], 'Checking the first row')\n",
    "assert_equal(('The Colour And The Shape', 'New Way Home', 342230, 216560.76923076922), table[-1], 'Checking the last row')\n",
    "assert_equal(len(table), 44, 'Checking the number of rows')\n",
    "\n",
    "# There are hidden tests that will completely check your solution"
   ]
  },
  {
   "cell_type": "code",
   "execution_count": 5,
   "metadata": {
    "collapsed": false,
    "deletable": false,
    "editable": false,
    "nbgrader": {
     "grade": true,
     "grade_id": "d9f7ed",
     "locked": true,
     "points": 2,
     "schema_version": 3,
     "solution": false,
     "task": false
    }
   },
   "outputs": [
   ],
   "source": [
    "# Test for part 3\n",
    "from nose.tools import assert_equal\n",
    "from csc270tools import get_table\n",
    "\n",
    "# Running the code in act10Chinook.sql to get the table and your code for this part\n",
    "table, header  = get_table( 'act10Chinook.sql', 'Chinook.db', 2, header=True)\n",
    "\n",
    "# Partially checking your solution\n",
    "assert_equal(header, ['Album Title', 'Track Name', 'Track Length', 'Album Average Track Length', 'Album Min Track Length', 'Album Max Track Length'], 'Checking the column names')\n",
    "assert_equal(('In Your Honor [Disc 1]', 'Hell', 117080, 240929.5, 117080, 352078), table[0], 'Checking the first row')\n",
    "assert_equal(('The Colour And The Shape', 'New Way Home', 342230, 216560.76923076922, 83487, 342230), table[-1], 'Checking the last row')\n",
    "assert_equal(len(table), 44, 'Checking the number of rows')\n",
    "\n",
    "# There are hidden tests that will completely check your solution"
   ]
  },
  {
   "cell_type": "markdown",
   "metadata": {
    "collapsed": false,
    "deletable": false,
    "editable": false,
    "nbgrader": {
     "grade": false,
     "grade_id": "0d29ed",
     "locked": true,
     "schema_version": 3,
     "solution": false,
     "task": false
    }
   },
   "source": [
    "## Tests: USA.db"
   ]
  },
  {
   "cell_type": "code",
   "execution_count": 6,
   "metadata": {
    "collapsed": false,
    "deletable": false,
    "editable": false,
    "nbgrader": {
     "grade": true,
     "grade_id": "043f95",
     "locked": true,
     "points": 4,
     "schema_version": 3,
     "solution": false,
     "task": false
    }
   },
   "outputs": [
   ],
   "source": [
    "# Test for part 1\n",
    "import sqlite3\n",
    "from nose.tools import assert_equal, assert_in\n",
    "\n",
    "# Setting up sqlite3 for unit tests\n",
    "con = sqlite3.connect('USA.db')\n",
    "cur = con.cursor()\n",
    "\n",
    "# Checking that the new view exists with the correct name\n",
    "views = [t[0] for t in cur.execute(\"SELECT tbl_name FROM sqlite_master WHERE type = 'view';\").fetchall()]\n",
    "assert_in('President', views, 'Checking for the new view')\n",
    "\n",
    "# Checking the column names\n",
    "view = cur.execute(\"SELECT * FROM President;\").fetchall()\n",
    "columns = [c[0] for c in cur.description]\n",
    "assert_equal(columns, ['politician_id', 'firstname', 'middlename', 'lastname', 'start_date', 'end_date'], 'Checking the column names')\n",
    "\n",
    "# Checking some rows of the View\n",
    "assert_equal((1, 'George', None, 'Washington', '1789-04-30', '1797-03-04'), view[0], 'Checking the first row')\n",
    "assert_equal((6, 'John', 'Quincy', 'Adams', '1825-03-04', '1829-03-04'), view[5], 'Checking another row')\n",
    "\n",
    "# There are hidden tests that will completely check your solution"
   ]
  },
  {
   "cell_type": "code",
   "execution_count": 7,
   "metadata": {
    "collapsed": false,
    "deletable": false,
    "editable": false,
    "nbgrader": {
     "grade": true,
     "grade_id": "9ff22f",
     "locked": true,
     "points": 2,
     "schema_version": 3,
     "solution": false,
     "task": false
    }
   },
   "outputs": [
   ],
   "source": [
    "# Test for part 2\n",
    "import sqlite3\n",
    "from nose.tools import assert_equal\n",
    "\n",
    "# Setting up sqlite3 for unit tests\n",
    "con = sqlite3.connect('USA.db')\n",
    "cur = con.cursor()\n",
    "\n",
    "# Checking for Obama\n",
    "table = cur.execute(\"\"\"\n",
    "    SELECT firstname, middlename, lastname, suffix, birthdate, \n",
    "           city_of_birth, state_of_birth, country_of_birth\n",
    "    FROM Politician\n",
    "    WHERE lastname = 'Obama';\n",
    "    \"\"\").fetchall()\n",
    "\n",
    "view  = cur.execute(\"\"\"\n",
    "    SELECT firstname, middlename, lastname, start_date, end_date \n",
    "    FROM President\n",
    "    WHERE lastname = 'Obama';\n",
    "    \"\"\").fetchall()\n",
    "\n",
    "assert_equal(table, \n",
    "             [('Barack', 'Hussein', 'Obama', 'II', '1961-08-04', \n",
    "               'Honolulu', 'Hawaii', 'United States')], \n",
    "             'Checking the Politician Table')\n",
    "assert_equal(view, \n",
    "             [('Barack', 'Hussein', 'Obama', '2009-01-20', '2017-01-20')], \n",
    "             'Checking the President View')"
   ]
  },
  {
   "cell_type": "code",
   "execution_count": 8,
   "metadata": {
    "collapsed": false,
    "deletable": false,
    "editable": false,
    "nbgrader": {
     "grade": true,
     "grade_id": "ea4e29",
     "locked": true,
     "points": 3,
     "schema_version": 3,
     "solution": false,
     "task": false
    }
   },
   "outputs": [
   ],
   "source": [
    "# Test for part 3\n",
    "import sqlite3\n",
    "from nose.tools import assert_equal, assert_in\n",
    "\n",
    "# Setting up sqlite3 for unit tests\n",
    "con = sqlite3.connect('USA.db')\n",
    "cur = con.cursor()\n",
    "\n",
    "# Checking that the new view exists with the correct name\n",
    "views = [t[0] for t in cur.execute(\"SELECT tbl_name FROM sqlite_master WHERE type = 'view';\").fetchall()]\n",
    "assert_in('DiedInOffice', views, 'Checking for the new view')\n",
    "\n",
    "# Checking the column names\n",
    "view = cur.execute(\"SELECT * FROM DiedInOffice;\").fetchall()\n",
    "columns = [c[0] for c in cur.description]\n",
    "assert_equal(columns, ['firstname', 'lastname', 'office', 'deathdate'], 'Checking the column names')\n",
    "\n",
    "# Checking some rows of the View\n",
    "assert_equal(('George', 'Clinton', 'Vice President', '1812-04-20'), view[0], 'Checking the first row')\n",
    "assert_in(('Abraham', 'Lincoln', 'President', '1865-04-15'), view, 'Checking another row')\n",
    "\n",
    "# There are hidden tests that will completely check your solution"
   ]
  },
  {
   "cell_type": "code",
   "execution_count": 9,
   "metadata": {
    "collapsed": false,
    "deletable": false,
    "editable": false,
    "nbgrader": {
     "grade": true,
     "grade_id": "29abbf",
     "locked": true,
     "points": 5,
     "schema_version": 3,
     "solution": false,
     "task": false
    }
   },
   "outputs": [
   ],
   "source": [
    "# Test for part 4\n",
    "import sqlite3\n",
    "from nose.tools import assert_equal, assert_in\n",
    "\n",
    "# Setting up sqlite3 for unit tests\n",
    "con = sqlite3.connect('USA.db')\n",
    "cur = con.cursor()\n",
    "\n",
    "# Checking that the new view exists with the correct name\n",
    "views = [t[0] for t in cur.execute(\"SELECT tbl_name FROM sqlite_master WHERE type = 'view';\").fetchall()]\n",
    "assert_in('VicePresident', views, 'Checking for the new view')\n",
    "\n",
    "# Checking the column names\n",
    "view = cur.execute(\"SELECT * FROM VicePresident;\").fetchall()\n",
    "columns = [c[0] for c in cur.description]\n",
    "assert_equal(columns, ['vice_president', 'president', 'start_date', 'end_date'], 'Checking the column names')\n",
    "\n",
    "# Checking some rows of the View\n",
    "assert_equal(('John Adams', 'George Washington', '1789-04-30', '1797-03-04'), view[0], 'Checking the first row')\n",
    "assert_equal(('Thomas Jefferson', 'John Adams', '1797-03-04', '1801-03-04'), view[1], 'Checking the second row')\n",
    "assert_equal(('Aaron Burr', 'Thomas Jefferson', '1801-03-04', '1805-03-04'), view[2], 'Checking the third row')\n",
    "assert_equal(('George Clinton', 'Thomas Jefferson', '1805-03-04', '1809-03-04'), view[3], 'Checking the fourth row')\n",
    "assert_equal(('George Clinton', 'James Madison', '1809-03-04', '1812-04-20'), view[4], 'Checking the fifth row')\n",
    "assert_equal(('John Tyler', 'William Harrison', '1841-03-04', '1841-04-04'), view[11], 'Checking the twelfth row')\n",
    "assert_in(('Andrew Johnson', 'Abraham Lincoln', '1865-03-04', '1865-04-15'), view, 'Checking another row')\n",
    "\n",
    "# There are hidden tests that will completely check your solution"
   ]
  }
 ],
 "metadata": {
  "kernelspec": {
   "argv": [
    "/usr/bin/python3",
    "-m",
    "ipykernel",
    "--HistoryManager.enabled=False",
    "--matplotlib=inline",
    "-c",
    "%config InlineBackend.figure_formats = set(['retina'])\nimport matplotlib; matplotlib.rcParams['figure.figsize'] = (12, 7)",
    "-f",
    "{connection_file}"
   ],
   "display_name": "Python 3 (system-wide)",
   "env": {
   },
   "language": "python",
   "metadata": {
    "cocalc": {
     "description": "Python 3 programming language",
     "priority": 100,
     "url": "https://www.python.org/"
    }
   },
   "name": "python3",
   "resource_dir": "/ext/jupyter/kernels/python3"
  },
  "nbgrader": {
   "__altered": false,
   "__hash": 1025205524,
   "_root": {
    "entries": [
     [
      "size",
      1
     ],
     [
      "_root",
      {
       "entries": [
        [
         "cocalc_minimal_stubs",
         true
        ]
       ],
       "ownerID": {
       }
      }
     ],
     [
      "__hash",
      912286151
     ],
     [
      "__altered",
      false
     ],
     [
      "cocalc_minimal_stubs",
      true
     ]
    ],
    "ownerID": {
    }
   },
   "cocalc_minimal_stubs": true,
   "size": 5
  }
 },
 "nbformat": 4,
 "nbformat_minor": 4
}